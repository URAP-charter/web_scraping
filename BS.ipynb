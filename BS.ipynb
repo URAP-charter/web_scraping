{
 "cells": [
  {
   "cell_type": "code",
   "execution_count": 1,
   "metadata": {
    "collapsed": true
   },
   "outputs": [],
   "source": [
    "#import\n",
    "from bs4 import BeautifulSoup\n",
    "import requests\n",
    "import numpy as np\n",
    "import json"
   ]
  },
  {
   "cell_type": "code",
   "execution_count": 2,
   "metadata": {
    "collapsed": true
   },
   "outputs": [],
   "source": [
    "valid = \"/Users/anhnguyen/Desktop/research/scraping_Python/text_files/valid_march.txt\"\n",
    "file = '/Users/anhnguyen/Desktop/research/scraping_Python/text_files/json.txt'"
   ]
  },
  {
   "cell_type": "markdown",
   "metadata": {},
   "source": [
    "### Helper Function"
   ]
  },
  {
   "cell_type": "code",
   "execution_count": 3,
   "metadata": {
    "collapsed": true
   },
   "outputs": [],
   "source": [
    "def write_file(str, file_name):\n",
    "    with open(file_name, \"a\") as text_file:\n",
    "        text_file.write(str)\n",
    "        \n",
    "def read_txt(txt_file):\n",
    "    links = []\n",
    "    count = 0\n",
    "    with open(txt_file) as f:\n",
    "        for line in f:   \n",
    "            count +=1\n",
    "            links += [line.rstrip()]\n",
    "    return links, count\n",
    "def readtxt(txt_file):\n",
    "    links = []\n",
    "    count = 0\n",
    "    with open(txt_file) as f:\n",
    "        for line in f:   \n",
    "            elems = line.split('\\t')\n",
    "            #elem is a tuple (name, link)\n",
    "            elem =  (elems[0].rstrip(), elems[1].rstrip())\n",
    "            count +=1\n",
    "            links += [elem]\n",
    "    return links, count"
   ]
  },
  {
   "cell_type": "code",
   "execution_count": null,
   "metadata": {
    "collapsed": true
   },
   "outputs": [],
   "source": []
  },
  {
   "cell_type": "code",
   "execution_count": 4,
   "metadata": {
    "collapsed": false
   },
   "outputs": [
    {
     "name": "stdout",
     "output_type": "stream",
     "text": [
      "https://www.richland2.org/charterhigh/\n"
     ]
    }
   ],
   "source": [
    "links, count = readtxt(valid)\n",
    "print(links[0][1])"
   ]
  },
  {
   "cell_type": "code",
   "execution_count": null,
   "metadata": {
    "collapsed": true
   },
   "outputs": [],
   "source": []
  },
  {
   "cell_type": "code",
   "execution_count": 5,
   "metadata": {
    "collapsed": false
   },
   "outputs": [],
   "source": [
    "url = 'https://www.polk.edu/lakeland-gateway-to-college-high-school/'\n",
    "def parse_data(url):\n",
    "    data  = requests.get(url).text\n",
    "    soup = BeautifulSoup(data, \"lxml\")\n",
    "    hrefs = soup('a')\n",
    "    paragraphs = soup('p')\n",
    "    #only want unique hrefs\n",
    "    links = []\n",
    "    for each in hrefs:\n",
    "        links.append(each.get('href'))\n",
    "    links = set(links)\n",
    "    return links, paragraphs"
   ]
  },
  {
   "cell_type": "code",
   "execution_count": 6,
   "metadata": {
    "collapsed": false
   },
   "outputs": [],
   "source": [
    "\n",
    "# print(links)"
   ]
  },
  {
   "cell_type": "code",
   "execution_count": 7,
   "metadata": {
    "collapsed": false
   },
   "outputs": [
    {
     "name": "stdout",
     "output_type": "stream",
     "text": [
      "{'/home', 'https://www.polk.edu/lakeland-gateway-to-college-high-school/student-resources/', 'https://www.polk.edu/lakeland-gateway-to-college-high-school/about-us/', 'https://www.polk.edu/about/', '/people/department/lakeland-gateway-to-college-high-school/', 'https://www.polk.edu/academics/', 'https://www.polk.edu/student-life/', 'https://www.polk.edu/community/'}\n",
      "8\n"
     ]
    }
   ],
   "source": [
    "urlkey = ['about', 'department', 'home', 'community', 'life', 'curriculum', 'hist', 'phil', 'academics', 'moral', 'focus', 'beliefs', 'program', 'resources', 'mission', 'value', 'core']\n",
    "urlkey = [s.upper() for s in urlkey]\n",
    "#now parse through all of those links based on the key word search,\n",
    "#and get a new list which contains the url's we actually want\n",
    "final_list = []\n",
    "for k in links:\n",
    "    try:\n",
    "        j = k.upper()\n",
    "        for i in range(len(urlkey)):\n",
    "            if isinstance(j, list) and len(j) == 1:\n",
    "                j = j[0].split(urlkey[i])\n",
    "            elif isinstance(j, list) and len(j) > 1:\n",
    "                if requests.get(url + k):\n",
    "                    final_list.append(k)\n",
    "                    break\n",
    "            else:\n",
    "                j = j.split(urlkey[i])\n",
    "    except:\n",
    "        pass\n",
    "\n",
    "final_list += ['/home']\n",
    "for i in range(len(final_list)):\n",
    "    each = final_list[i].upper()\n",
    "    k, m, n, o = each.split('FREQ'), each.split('ADMI'), each.split('TRUSTE'), each.split('ALUM')\n",
    "    if len(k) > 1 or len(m) > 1 or len(n) > 1 or len(o) > 1:\n",
    "        final_list[i] = '/home'\n",
    "final_list = set(final_list)\n",
    "print(final_list)\n",
    "print(len(final_list))"
   ]
  },
  {
   "cell_type": "code",
   "execution_count": 8,
   "metadata": {
    "collapsed": false
   },
   "outputs": [
    {
     "data": {
      "text/plain": [
       "{'curriculum': [],\n",
       " 'history': [],\n",
       " 'mission': [],\n",
       " 'organizational_factors': [],\n",
       " 'philosophy': [],\n",
       " 'resources': [],\n",
       " 'target': []}"
      ]
     },
     "execution_count": 8,
     "metadata": {},
     "output_type": "execute_result"
    }
   ],
   "source": [
    "#create a dictionary to for us to store our relevant texts into into \n",
    "#their respective categories\n",
    "school = {'mission' : [], 'curriculum': [], 'philosophy' : [], 'history' : [], 'target' : [], 'resources' : [], 'organizational_factors' : []}\n",
    "school"
   ]
  },
  {
   "cell_type": "code",
   "execution_count": 9,
   "metadata": {
    "collapsed": false
   },
   "outputs": [
    {
     "data": {
      "text/plain": [
       "['MISSION',\n",
       " ' VISION ',\n",
       " 'OUR PURPOSE',\n",
       " 'CAUSE',\n",
       " 'OBJECTIVES',\n",
       " 'VISION:',\n",
       " 'MISSION:']"
      ]
     },
     "execution_count": 9,
     "metadata": {},
     "output_type": "execute_result"
    }
   ],
   "source": [
    "#keywords\n",
    "\n",
    "k = [str(x) for x in np.arange(1900,2012)]\n",
    "idk = ['advantage']\n",
    "mission = ['mission',' vision ', 'our purpose', 'cause', 'objectives', 'vision:', 'mission:']\n",
    "curriculum = ['curriculum', 'program', 'methods', 'pedagogy', 'approach', 'model',  'academics', 'degree']\n",
    "philosophy = ['philosophy','beliefs', 'principles', 'creed', 'values',  'moral']\n",
    "history = ['history', 'story', 'background', 'founded', 'established'] + k\n",
    "target = ['target','gifted', 'at-risk', 'ethnic background', 'target population', 'target audience']\n",
    "resources = ['resources', 'ESL', 'tutoring', 'after-school programs', 'available resources', 'services', 'opportunities', 'opportunity']\n",
    "orgfactor = ['organizational_factors', 'statistics', 'API', 'environment', 'ratio', 'average', 'female', 'fund', 'community'  ]\n",
    "keywords = [(mission[0], mission), (curriculum[0], curriculum), (philosophy[0], philosophy), (history[0], history), ( target[0],target) , (resources[0], resources), (orgfactor[0], orgfactor) ]\n",
    "for i in range(0,len(keywords)):\n",
    "    keywords[i] = (keywords[i][0], [s.upper() for s in keywords[i][1]])\n",
    "keywords[0][1]"
   ]
  },
  {
   "cell_type": "code",
   "execution_count": 10,
   "metadata": {
    "collapsed": false
   },
   "outputs": [],
   "source": [
    "#create a mapper function to map the text which we parse through into \n",
    "#its relevant category in the dictionary\n",
    "\n",
    "def mapper(txt):\n",
    "#     print(txt.upper())\n",
    "    text = txt.upper()\n",
    "    for i in range(len(keywords)):\n",
    "        update_with_keyword(keywords[i], txt)\n",
    "        \n",
    "def update_with_keyword(keyword, txt):\n",
    "    text1 = txt.upper()\n",
    "#     print(keyword[1])\n",
    "    for i in range(len(keyword[1])):\n",
    "        if not isinstance(text1, list):\n",
    "            text1 = text1.split(keyword[1][i])\n",
    "        elif len(text1) == 1:\n",
    "            text1 = text1[0].split(keyword[1][i])\n",
    "        if len(text1) > 1:\n",
    "#             print(keyword[0])\n",
    "            school[keyword[0]].append(txt)\n",
    "            break"
   ]
  },
  {
   "cell_type": "code",
   "execution_count": 11,
   "metadata": {
    "collapsed": false
   },
   "outputs": [],
   "source": [
    "for link in final_list:\n",
    "    q = requests.get(url + link)\n",
    "    k = q.text\n",
    "    s = BeautifulSoup(k, \"lxml\")\n",
    "    j = s.find_all('p')\n",
    "    for lin in j:\n",
    "        k = str(lin)\n",
    "        if lin.get('class') == None and lin.get('a') == None and len(k.split('|')) == 1:\n",
    "            mapper(' ' + lin.get_text())"
   ]
  },
  {
   "cell_type": "code",
   "execution_count": 12,
   "metadata": {
    "collapsed": false
   },
   "outputs": [],
   "source": [
    "\n",
    "updated_school = dict((k, set(v)) for k, v in school.items())"
   ]
  },
  {
   "cell_type": "code",
   "execution_count": 13,
   "metadata": {
    "collapsed": false
   },
   "outputs": [
    {
     "name": "stdout",
     "output_type": "stream",
     "text": [
      "{'resources': {' No matter if you’re into the environment or salsa dancing, there is a Polk State student club or organization for you. The College offers dozens of student life opportunities — all you have to do is join. Don’t see what you’re looking for? Contact your campus Student Activities and Leadership Office (SALO) for information on how to start a new club.', ' This public charter school represents an exciting new opportunity for local area students who have earned 45% of the credits required for high school graduation, providing students with maximum flexibility and opportunity for success. The school was funded in part through a grant from the Gateway to College National Network.', ' Polk State’s advantages include small class sizes; hands-on learning; dedicated faculty; day and night classes; online options; affordable tuition; excellent financial aid; a diverse community and vibrant student life, including fine arts opportunities, clubs, and intercollegiate athletics.', ' Polk State offers the advantages of\\xa0intimate campus life you might expect from a small college — but has a wide range of opportunities and services that are only possible with an institution that serves over 20,000 students each year.', ' Polk State Lakeland Gateway to College Collegiate High School is an exciting new opportunity for area students, typically between the ages of 16 and 21, who have earned 45% of the credits required for high school graduation. \\xa0All courses are taught on the Polk State Lakeland campus and offered during morning and afternoon hours, to provide students with maximum flexibility and opportunity for success. The school is funded in part through a grant from the Gateway to College National Network.'}, 'organizational_factors': {' Summer is right around the corner- Priority registration begins April 3, with open registration beginning April 10. https://t.co/39rWUAYK1v', ' Polk State Lakeland Gateway to College Collegiate High School is an exciting new opportunity for area students, typically between the ages of 16 and 21, who have earned 45% of the credits required for high school graduation. \\xa0All courses are taught on the Polk State Lakeland campus and offered during morning and afternoon hours, to provide students with maximum flexibility and opportunity for success. The school is funded in part through a grant from the Gateway to College National Network.', ' Average Age:\\xa025.4', ' No matter if you’re into the environment or salsa dancing, there is a Polk State student club or organization for you. The College offers dozens of student life opportunities — all you have to do is join. Don’t see what you’re looking for? Contact your campus Student Activities and Leadership Office (SALO) for information on how to start a new club.', ' Meta-majors are academic pathways for programs and degrees with similar General Education requirements that lead to similar careers.\\xa0 Students who are not sure what degree\\xa0 to\\xa0pursue can use a meta-major pathway to select\\xa0the appropriate General Education courses.\\xa0 Students are recommended to see an advisor or attend a Career Explorations workshop.\\xa0 For more information on meta-majors, click here.', ' 61% Female /\\xa036% Male', ' This public charter school represents an exciting new opportunity for local area students who have earned 45% of the credits required for high school graduation, providing students with maximum flexibility and opportunity for success. The school was funded in part through a grant from the Gateway to College National Network.', ' All of Polk State’s degree programs are designed to meet the needs of its community, positioning students to be hired when they graduate or to succeed at the next level of education.', ' Polk State’s advantages include small class sizes; hands-on learning; dedicated faculty; day and night classes; online options; affordable tuition; excellent financial aid; a diverse community and vibrant student life, including fine arts opportunities, clubs, and intercollegiate athletics.', ' At Polk State the doors are always open — to students, of course, but also the community as a whole.'}, 'philosophy': set(), 'history': {' Polk State College, established in 1964, is a multi-campus institution serving over 20,000 students with Bachelor of Applied Science, Bachelor of Science, Associate in Arts and \\xa0Associate in Science degrees, as well as a wide range of certificate and workforce training options. The College also operates three charter high schools.', ' From its founding back in 1964, Polk State College has been profoundly focused on the needs of the communities it serves. Most of our students live in Polk County, and most of them will live and work here after they graduate. Most of our faculty and staff call Polk County home, and many of the vendors with whom we partner are local firms.'}, 'target': set(), 'curriculum': {' Polk State also offers the Associate in Science degree for those who seek to enter the workforce immediately after completing their education, and the Associate in Arts degree for those seeking to continue their studies at a four-year institution.', ' Meta-majors are academic pathways for programs and degrees with similar General Education requirements that lead to similar careers.\\xa0 Students who are not sure what degree\\xa0 to\\xa0pursue can use a meta-major pathway to select\\xa0the appropriate General Education courses.\\xa0 Students are recommended to see an advisor or attend a Career Explorations workshop.\\xa0 For more information on meta-majors, click here.', ' Degree-seeking Students:\\xa015,755', ' Throughout the year, Polk State hosts a diverse slate of special events and programs, from concerts to lectures to summer camps. It’s the College’s way of extending the learning that happens in its classrooms, creating a destination for anyone interested in deeper knowledge, new experiences, or just a little fun.', ' Polk’s Business, Engineering & Technology programs deliver the cutting-edge training employers demand.', ' Polk State College offers a variety of degrees and workforce certificates to prepare students for future success.', ' All of Polk State’s degree programs are designed to meet the needs of its community, positioning students to be hired when they graduate or to succeed at the next level of education.', ' The College offers six\\xa0bachelor’s degrees — the Bachelor of Applied Science in Supervision and Management, Bachelor of Science in Criminal Justice, \\xa0Bachelor of Science in Nursing,\\xa0Bachelor of Science in Aerospace Sciences, \\xa0Bachelor of Science in Early Childhood Education, and Bachelor of Science in Elementary Education\\xa0— to allow students to gain advanced training right here in Polk County. \\xa0\\n', ' Polk State College, established in 1964, is a multi-campus institution serving over 20,000 students with Bachelor of Applied Science, Bachelor of Science, Associate in Arts and \\xa0Associate in Science degrees, as well as a wide range of certificate and workforce training options. The College also operates three charter high schools.', ' Polk State College is proud to be part of FUSE, a program in partnership with the University of South Florida that provides\\xa0eligible Polk State students with guaranteed admission to a USF System institution upon the successful completion of an associate in arts degree. This program is for students who are starting at Polk State just out of high school, and those that applied to\\xa0a USF System institution and were not immediately admitted.\\xa0Students who participate in FUSE\\xa0will:'}, 'mission': {' Vision Statement:\\xa0All GHS enrollees will graduate from high school and college and become self-actualized citizens and successful leaders in their communities.', ' The mission of Polk State Lakeland Gateway to College Collegiate High School, is to provide an\\xa0academic charter alternative for juniors and seniors transitioning to college.', ' Polk State College is proud to be part of FUSE, a program in partnership with the University of South Florida that provides\\xa0eligible Polk State students with guaranteed admission to a USF System institution upon the successful completion of an associate in arts degree. This program is for students who are starting at Polk State just out of high school, and those that applied to\\xa0a USF System institution and were not immediately admitted.\\xa0Students who participate in FUSE\\xa0will:'}}\n"
     ]
    }
   ],
   "source": [
    "print(updated_school)"
   ]
  },
  {
   "cell_type": "code",
   "execution_count": 14,
   "metadata": {
    "collapsed": false
   },
   "outputs": [
    {
     "name": "stdout",
     "output_type": "stream",
     "text": [
      "{' Vision Statement:\\xa0All GHS enrollees will graduate from high school and college and become self-actualized citizens and successful leaders in their communities.', ' The mission of Polk State Lakeland Gateway to College Collegiate High School, is to provide an\\xa0academic charter alternative for juniors and seniors transitioning to college.', ' Polk State College is proud to be part of FUSE, a program in partnership with the University of South Florida that provides\\xa0eligible Polk State students with guaranteed admission to a USF System institution upon the successful completion of an associate in arts degree. This program is for students who are starting at Polk State just out of high school, and those that applied to\\xa0a USF System institution and were not immediately admitted.\\xa0Students who participate in FUSE\\xa0will:'}\n"
     ]
    }
   ],
   "source": [
    "print(updated_school['mission'])"
   ]
  },
  {
   "cell_type": "code",
   "execution_count": 15,
   "metadata": {
    "collapsed": true
   },
   "outputs": [],
   "source": [
    "\n",
    "with open(file, 'w') as outfile:\n",
    "    json.dump(school, outfile)"
   ]
  },
  {
   "cell_type": "code",
   "execution_count": null,
   "metadata": {
    "collapsed": true
   },
   "outputs": [],
   "source": []
  }
 ],
 "metadata": {
  "anaconda-cloud": {},
  "kernelspec": {
   "display_name": "Python [default]",
   "language": "python",
   "name": "python3"
  },
  "language_info": {
   "codemirror_mode": {
    "name": "ipython",
    "version": 3
   },
   "file_extension": ".py",
   "mimetype": "text/x-python",
   "name": "python",
   "nbconvert_exporter": "python",
   "pygments_lexer": "ipython3",
   "version": "3.4.5"
  }
 },
 "nbformat": 4,
 "nbformat_minor": 1
}
