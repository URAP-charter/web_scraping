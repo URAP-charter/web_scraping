{
 "cells": [
  {
   "cell_type": "code",
   "execution_count": 43,
   "metadata": {
    "collapsed": false
   },
   "outputs": [],
   "source": [
    "# import necessary libraries\n",
    "from bs4 import BeautifulSoup\n",
    "import re\n",
    "import os, csv\n",
    "import shutil\n",
    "import urllib\n",
    "from urllib.request import urlopen\n",
    "from socket import error as SocketError\n",
    "import errno\n",
    "import pandas as pd\n",
    "import httplib2, requests, contextlib\n",
    "# import requests\n",
    "# import contextlib\n",
    "# from urllib import urlparse\n",
    "from urllib.parse import urljoin, urlparse\n",
    "from requests.auth import HTTPBasicAuth, HTTPDigestAuth\n",
    "# from requests.auth import HTTPDigestAuth"
   ]
  },
  {
   "cell_type": "code",
   "execution_count": null,
   "metadata": {
    "collapsed": true
   },
   "outputs": [],
   "source": [
    "def write_file(str, file_name):\n",
    "    \"\"\"This function writes a string str to a given file name\"\"\"\n",
    "    with open(file_name, \"a\") as text_file:\n",
    "        text_file.write(str)"
   ]
  },
  {
   "cell_type": "code",
   "execution_count": null,
   "metadata": {
    "collapsed": true
   },
   "outputs": [],
   "source": [
    "def check_url(url):\n",
    "    code = \"[no code collected]\"\n",
    "    user_agent = \"Mozilla/5.0 (Macintosh; Intel Mac OS X 10_11_5) AppleWebKit/537.36 \\\n",
    "    (KHTML, like Gecko) Chrome/56.0.2924.87 Safari/537.36\"\n",
    "#     try:\n",
    "#         code = requests.head(url).status_code\n",
    "#     r = requests.get(url, auth=('user', 'pass'), headers= {'User-Agent':\"Mozilla/5.0 (Macintosh; Intel Mac OS X 10_11_5) AppleWebKit/537.36 (KHTML, like Gecko) Chrome/56.0.2924.87 Safari/537.36\"})\n",
    "#     code = r.status_code\n",
    "#     if code == 401:\n",
    "    from requests.auth import HTTPDigestAuth\n",
    "    r = requests.get(url, auth=HTTPDigestAuth('user', 'pass'), headers= {'User-Agent':\"Mozilla/5.0 (Macintosh; Intel Mac OS X 10_11_5) AppleWebKit/537.36 (KHTML, like Gecko) Chrome/56.0.2924.87 Safari/537.36\"})\n",
    "    code = r.status_code\n",
    "#     print(r.content)\n",
    "    if code< 400:\n",
    "        return True   \n",
    "#     except:\n",
    "#         pass\n",
    "    print(url +\" ---Error code: \" + str( code))\n",
    "    return False"
   ]
  },
  {
   "cell_type": "code",
   "execution_count": null,
   "metadata": {
    "collapsed": false
   },
   "outputs": [],
   "source": [
    "check_url(\"http://www.appletonpublicmontessori.com/\")"
   ]
  },
  {
   "cell_type": "code",
   "execution_count": null,
   "metadata": {
    "collapsed": true
   },
   "outputs": [],
   "source": [
    "#TODO: csv file here\n",
    "micro_sample_cvs = \"/Users/anhnguyen/Desktop/research/scraping_Python/excel_files/micro-sample_MANUAL_Apr17.xlsx\"\n"
   ]
  },
  {
   "cell_type": "code",
   "execution_count": null,
   "metadata": {
    "collapsed": true
   },
   "outputs": [],
   "source": [
    "def recursiveUrl(url,depth):\n",
    "\n",
    "    if depth == 5:\n",
    "        return url\n",
    "    else:\n",
    "        page=urllib2.urlopen(url)\n",
    "        soup = BeautifulSoup(page.read())\n",
    "        newlink = soup.find('a') #find just the first one\n",
    "        if len(newlink) == 0:\n",
    "            return url\n",
    "        else:\n",
    "            return url, recursiveUrl(newlink,depth+1)\n",
    "\n",
    "\n",
    "def getLinks(url):\n",
    "    page=urllib2.urlopen(url)\n",
    "    soup = BeautifulSoup(page.read())\n",
    "    links = soup.find_all('a', {'class':'institution'})\n",
    "    for link in links:\n",
    "        links.append(recursiveUrl(link,0))\n",
    "    return links"
   ]
  },
  {
   "cell_type": "code",
   "execution_count": null,
   "metadata": {
    "collapsed": false
   },
   "outputs": [],
   "source": [
    "def get_children_links(url_parent, hostname, visited, depth):\n",
    "    \"\"\"This function recursively gets the children links of a given links\"\"\"\n",
    "    if depth == 0:\n",
    "        return visited\n",
    "    #get the html page\n",
    "    \n",
    "    print(url_parent)\n",
    "    html_page = requests.get(url_parent, auth=HTTPDigestAuth('user', 'pass'), headers= {\"Host\": hostname,'User-Agent':\"Mozilla/5.0 (Macintosh; Intel Mac OS X 10_11_5) AppleWebKit/537.36 (KHTML, like Gecko) Chrome/56.0.2924.87 Safari/537.36\"})\n",
    "    soup = BeautifulSoup(html_page.text)\n",
    "    count = 0\n",
    "    #we visited url_parent\n",
    "    visited.append(url_parent)\n",
    "    #now checking its children\n",
    "    for link in soup.findAll('a'):\n",
    "        pattern = re.compile(\"((http|ftp)s?://.*?)\")\n",
    "        current_link = link.get('href')\n",
    "        print(current_link)\n",
    "        if not pattern.match(current_link):\n",
    "            current_link = urljoin(url_parent, current_link)\n",
    "        if hostname in current_link:\n",
    "            print(current_link)\n",
    "            visited += get_children_links(current_link, hostname, visited, depth -1)\n",
    "    return list(set(visited))\n",
    "#     print(count)\n",
    "\n",
    "def getLinks(url):\n",
    "    seen = []\n",
    "    hostname = urlparse(url).hostname\n",
    "    return get_children_links(url, hostname, seen, 3)"
   ]
  },
  {
   "cell_type": "code",
   "execution_count": null,
   "metadata": {
    "collapsed": false
   },
   "outputs": [],
   "source": [
    "urls = getLinks(\"http://www.wattslearningcenter.org/\")\n",
    "for e in urls:\n",
    "    print(e)"
   ]
  },
  {
   "cell_type": "code",
   "execution_count": null,
   "metadata": {
    "collapsed": true
   },
   "outputs": [],
   "source": []
  }
 ],
 "metadata": {
  "anaconda-cloud": {},
  "kernelspec": {
   "display_name": "Python [default]",
   "language": "python",
   "name": "python3"
  },
  "language_info": {
   "codemirror_mode": {
    "name": "ipython",
    "version": 3
   },
   "file_extension": ".py",
   "mimetype": "text/x-python",
   "name": "python",
   "nbconvert_exporter": "python",
   "pygments_lexer": "ipython3",
   "version": "3.4.5"
  }
 },
 "nbformat": 4,
 "nbformat_minor": 1
}
