{
 "cells": [
  {
   "cell_type": "code",
   "execution_count": 1,
   "metadata": {
    "collapsed": true
   },
   "outputs": [],
   "source": [
    "#import\n",
    "from bs4 import BeautifulSoup\n",
    "import requests\n",
    "import numpy as np\n",
    "import json\n",
    "import pickle"
   ]
  },
  {
   "cell_type": "code",
   "execution_count": 2,
   "metadata": {
    "collapsed": true
   },
   "outputs": [],
   "source": [
    "valid = \"/Users/anhnguyen/Desktop/research/scraping_Python/text_files/valid_march.txt\"\n",
    "file = '/Users/anhnguyen/Desktop/research/scraping_Python/text_files/json.txt'"
   ]
  },
  {
   "cell_type": "markdown",
   "metadata": {},
   "source": [
    "### Helper Function"
   ]
  },
  {
   "cell_type": "code",
   "execution_count": 3,
   "metadata": {
    "collapsed": true
   },
   "outputs": [],
   "source": [
    "def write_file(str, file_name):\n",
    "    \"\"\"This function writes a string str to a given file name\"\"\"\n",
    "    with open(file_name, \"a\") as text_file:\n",
    "        text_file.write(str)\n",
    "        \n",
    "def read_txt(txt_file):\n",
    "    \"\"\"This function returns a list of all the lines of a file and also the count\n",
    "    of how many lines\"\"\"\n",
    "    links = []\n",
    "    count = 0\n",
    "    with open(txt_file) as f:\n",
    "        for line in f:   \n",
    "            count +=1\n",
    "            links += [line.rstrip()]\n",
    "    return links, count\n",
    "def readtxt(txt_file):\n",
    "    \"\"\"This function returns a list of tuples and the count of lines\n",
    "    each element of a tuple is separeted by tabtab\n",
    "    example abc 123\n",
    "            cdw 234\n",
    "            return [(abc, 123), (cdw, 234)], 2\"\"\"\n",
    "    links = []\n",
    "    count = 0\n",
    "    with open(txt_file) as f:\n",
    "        for line in f:   \n",
    "            elems = line.split('\\t')\n",
    "            #elem is a tuple (name, link)\n",
    "            elem =  (elems[0].rstrip(), elems[1].rstrip())\n",
    "            count +=1\n",
    "            links += [elem]\n",
    "    return links, count"
   ]
  },
  {
   "cell_type": "code",
   "execution_count": 4,
   "metadata": {
    "collapsed": false
   },
   "outputs": [],
   "source": [
    "# links, count = readtxt(valid)\n",
    "# print(links[0][1])"
   ]
  },
  {
   "cell_type": "code",
   "execution_count": 5,
   "metadata": {
    "collapsed": false
   },
   "outputs": [],
   "source": [
    "url = 'https://www.polk.edu/lakeland-gateway-to-college-high-school/'\n",
    "# credits: parsing team\n",
    "def parse_data(url):\n",
    "    \n",
    "    data  = requests.get(url).text\n",
    "    soup = BeautifulSoup(data, \"lxml\")\n",
    "    hrefs = soup('a')\n",
    "    paragraphs = soup('p')\n",
    "    #only want unique hrefs\n",
    "    links = []\n",
    "    for each in hrefs:\n",
    "        links.append(each.get('href'))\n",
    "    links = set(links)\n",
    "    return links, paragraphs\n",
    "#TESTING\n",
    "links, paragraphs = parse_data(url)"
   ]
  },
  {
   "cell_type": "code",
   "execution_count": null,
   "metadata": {
    "collapsed": false
   },
   "outputs": [],
   "source": []
  },
  {
   "cell_type": "code",
   "execution_count": 6,
   "metadata": {
    "collapsed": false
   },
   "outputs": [
    {
     "name": "stdout",
     "output_type": "stream",
     "text": [
      "{'https://www.polk.edu/lakeland-gateway-to-college-high-school/student-resources/', '/people/department/lakeland-gateway-to-college-high-school/', 'https://www.polk.edu/academics/', '/home', 'https://www.polk.edu/lakeland-gateway-to-college-high-school/about-us/', 'https://www.polk.edu/about/', 'https://www.polk.edu/community/', 'https://www.polk.edu/student-life/'}\n",
      "8\n"
     ]
    }
   ],
   "source": [
    "urlkey = ['about', 'department', 'home', 'community', 'life', 'curriculum', 'hist', 'phil', 'academics', 'moral', 'focus', 'beliefs', 'program', 'resources', 'mission', 'value', 'core']\n",
    "urlkey = [s.upper() for s in urlkey]\n",
    "#now parse through all of those links based on the key word search,\n",
    "#and get a new list which contains the url's we actually want\n",
    "# credits parsing team\n",
    "def get_final_list(links):\n",
    "    final_list = []\n",
    "    for k in links:\n",
    "        try:\n",
    "            j = k.upper()\n",
    "            for i in range(len(urlkey)):\n",
    "                if isinstance(j, list) and len(j) == 1:\n",
    "                    j = j[0].split(urlkey[i])\n",
    "                elif isinstance(j, list) and len(j) > 1:\n",
    "                    if requests.get(url + k):\n",
    "                        final_list.append(k)\n",
    "                        break\n",
    "                else:\n",
    "                    j = j.split(urlkey[i])\n",
    "        except:\n",
    "            pass\n",
    "\n",
    "    final_list += ['/home']\n",
    "    for i in range(len(final_list)):\n",
    "        each = final_list[i].upper()\n",
    "        # split with these keywords because we those pages with tag will not likely to give us \n",
    "        # the info we want\n",
    "        k, m, n, o = each.split('FREQ'), each.split('ADMI'), each.split('TRUSTE'), each.split('ALUM')\n",
    "        if len(k) > 1 or len(m) > 1 or len(n) > 1 or len(o) > 1:\n",
    "            final_list[i] = '/home'\n",
    "    final_list = set(final_list)\n",
    "    return final_list\n",
    "\n",
    "# TESTING\n",
    "final_list = get_final_list(links)\n",
    "print(final_list)\n",
    "print(len(final_list))"
   ]
  },
  {
   "cell_type": "code",
   "execution_count": 7,
   "metadata": {
    "collapsed": false
   },
   "outputs": [
    {
     "data": {
      "text/plain": [
       "['MISSION',\n",
       " ' VISION ',\n",
       " 'OUR PURPOSE',\n",
       " 'CAUSE',\n",
       " 'OBJECTIVES',\n",
       " 'VISION:',\n",
       " 'MISSION:']"
      ]
     },
     "execution_count": 7,
     "metadata": {},
     "output_type": "execute_result"
    }
   ],
   "source": [
    "#create a dictionary to for us to store our relevant texts into into \n",
    "#their respective categories\n",
    "school = {'mission' : [], 'curriculum': [], 'philosophy' : [], 'history' : [], 'target' : [], 'resources' : [], 'organizational_factors' : []}\n",
    "#key words for searching\n",
    "k = [str(x) for x in np.arange(1900,2012)]\n",
    "idk = ['advantage']\n",
    "mission = ['mission',' vision ', 'our purpose', 'cause', 'objectives', 'vision:', 'mission:']\n",
    "curriculum = ['curriculum', 'program', 'methods', 'pedagogy', 'approach', 'model',  'academics', 'degree']\n",
    "philosophy = ['philosophy','beliefs', 'principles', 'creed', 'values',  'moral']\n",
    "history = ['history', 'story', 'background', 'founded', 'established'] + k\n",
    "target = ['target','gifted', 'at-risk', 'ethnic background', 'target population', 'target audience']\n",
    "resources = ['resources', 'ESL', 'tutoring', 'after-school programs', 'available resources', 'services', 'opportunities', 'opportunity']\n",
    "orgfactor = ['organizational_factors', 'statistics', 'API', 'environment', 'ratio', 'average', 'female', 'fund', 'community'  ]\n",
    "keywords = [(mission[0], mission), (curriculum[0], curriculum), (philosophy[0], philosophy), (history[0], history), ( target[0],target) , (resources[0], resources), (orgfactor[0], orgfactor) ]\n",
    "\n",
    "#makes all the text in uppercase\n",
    "for i in range(0,len(keywords)):\n",
    "    keywords[i] = (keywords[i][0], [s.upper() for s in keywords[i][1]])\n",
    "keywords[0][1]"
   ]
  },
  {
   "cell_type": "code",
   "execution_count": 8,
   "metadata": {
    "collapsed": false
   },
   "outputs": [],
   "source": [
    "#create a mapper function to map the text which we parse through into \n",
    "#its relevant category in the dictionary\n",
    "# credits: parsing team\n",
    "def mapper(txt, school):\n",
    "    \n",
    "#     print(txt.upper())\n",
    "    text = txt.upper()\n",
    "    for i in range(len(keywords)):\n",
    "        update_with_keyword(keywords[i], txt, school)\n",
    "        \n",
    "def update_with_keyword(keyword, txt, school):\n",
    "    \"\"\"This functions updates the school dict with txt\n",
    "    keyword = field name, st mission, history, target, etc\"\"\"\n",
    "    text1 = txt.upper()\n",
    "#     print(keyword[1])\n",
    "    for i in range(len(keyword[1])):\n",
    "        if not isinstance(text1, list):\n",
    "            text1 = text1.split(keyword[1][i])\n",
    "        elif len(text1) == 1:\n",
    "            text1 = text1[0].split(keyword[1][i])\n",
    "        if len(text1) > 1:\n",
    "#             print(keyword[0])\n",
    "            school[keyword[0]].append(txt)\n",
    "            break"
   ]
  },
  {
   "cell_type": "code",
   "execution_count": 9,
   "metadata": {
    "collapsed": false
   },
   "outputs": [],
   "source": [
    "def update_school_dict(final_list, school):\n",
    "    for link in final_list:\n",
    "        q = requests.get(url + link)\n",
    "        k = q.text\n",
    "        s = BeautifulSoup(k, \"lxml\")\n",
    "        j = s.find_all('p')\n",
    "        for lin in j:\n",
    "            k = str(lin)\n",
    "            if lin.get('class') == None and lin.get('a') == None and len(k.split('|')) == 1:\n",
    "                mapper(' ' + lin.get_text(), school)\n",
    "    # remove duplicates values with set\n",
    "    updated_school = dict((k, set(v)) for k, v in school.items())\n",
    "    return updated_school"
   ]
  },
  {
   "cell_type": "code",
   "execution_count": 10,
   "metadata": {
    "collapsed": false
   },
   "outputs": [],
   "source": [
    "# updated_school = update_school_dict(final_list, school)\n",
    "# print(updated_school)"
   ]
  },
  {
   "cell_type": "code",
   "execution_count": 11,
   "metadata": {
    "collapsed": false
   },
   "outputs": [],
   "source": [
    "# print(updated_school['mission'])"
   ]
  },
  {
   "cell_type": "code",
   "execution_count": 12,
   "metadata": {
    "collapsed": true
   },
   "outputs": [],
   "source": [
    "def save_json(file, school):\n",
    "    with open(file, 'wb') as outfile:\n",
    "#         json.dump(school, outfile)\n",
    "        pickle.dump(school, outfile)\n"
   ]
  },
  {
   "cell_type": "code",
   "execution_count": 13,
   "metadata": {
    "collapsed": false
   },
   "outputs": [],
   "source": [
    "count = 0\n",
    "def run_master():\n",
    "    \n",
    "    #get the links, count of valid website links\n",
    "    links, count = readtxt(valid)\n",
    "    result = []\n",
    "    #runing on first 3 sites\n",
    "#     to_run = links[0:300]\n",
    "    for url in links:\n",
    "        \n",
    "        name, link = url[0], url[1]\n",
    "#         link = 'https://www.polk.edu/lakeland-gateway-to-college-high-school/'\n",
    "        links, paragraphs = parse_data(link)\n",
    "        final_list = get_final_list(links)\n",
    "        #create a dictionary to for us to store our relevant texts into into \n",
    "        #their respective categories\n",
    "        school = {'school_name': [], 'mission' : [], 'curriculum': [], 'philosophy' : [], 'history' : [], 'target' : [], 'resources' : [], 'organizational_factors' : []}\n",
    "        try:\n",
    "            updated_school = update_school_dict(final_list, school)\n",
    "            updated_school['school_name'] = name\n",
    "            print(updated_school)\n",
    "            print(str(count)+name)\n",
    "            \n",
    "            result.append(updated_school)\n",
    "        except:\n",
    "            pass\n",
    "        \n",
    "        count +=1\n",
    "#         result[name] =updated_school\n",
    "    save_json(file, result)    "
   ]
  },
  {
   "cell_type": "code",
   "execution_count": 14,
   "metadata": {
    "collapsed": false
   },
   "outputs": [
    {
     "name": "stdout",
     "output_type": "stream",
     "text": [
      "{'school_name': 'RICHLAND TWO CHARTER HIGH', 'history': set(), 'resources': {' This public charter school represents an exciting new opportunity for local area students who have earned 45% of the credits required for high school graduation, providing students with maximum flexibility and opportunity for success. The school was funded in part through a grant from the Gateway to College National Network.', ' Thank you @seuniversity for joining us today to share information about education opportunities for staff and facul… https://t.co/dRhJKa5uGn'}, 'curriculum': {' Polk’s Business, Engineering & Technology programs deliver the cutting-edge training employers demand.'}, 'philosophy': set(), 'target': set(), 'mission': {' The mission of Polk State Lakeland Gateway to College Collegiate High School, is to provide an\\xa0academic charter alternative for juniors and seniors transitioning to college.', ' Vision Statement:\\xa0All GHS enrollees will graduate from high school and college and become self-actualized citizens and successful leaders in their communities.'}, 'organizational_factors': {' This public charter school represents an exciting new opportunity for local area students who have earned 45% of the credits required for high school graduation, providing students with maximum flexibility and opportunity for success. The school was funded in part through a grant from the Gateway to College National Network.'}}\n",
      "297RICHLAND TWO CHARTER HIGH\n",
      "{'school_name': 'POLK STATE COLLEGE COLLEGIATE HIGH SCHOOL', 'history': {' Polk State College, established in 1964, is a multi-campus institution serving over 20,000 students with Bachelor of Applied Science, Bachelor of Science, Associate in Arts and \\xa0Associate in Science degrees, as well as a wide range of certificate and workforce training options. The College also operates three charter high schools.', ' From its founding back in 1964, Polk State College has been profoundly focused on the needs of the communities it serves. Most of our students live in Polk County, and most of them will live and work here after they graduate. Most of our faculty and staff call Polk County home, and many of the vendors with whom we partner are local firms.'}, 'resources': {' Polk State’s advantages include small class sizes; hands-on learning; dedicated faculty; day and night classes; online options; affordable tuition; excellent financial aid; a diverse community and vibrant student life, including fine arts opportunities, clubs, and intercollegiate athletics.', ' This public charter school represents an exciting new opportunity for local area students who have earned 45% of the credits required for high school graduation, providing students with maximum flexibility and opportunity for success. The school was funded in part through a grant from the Gateway to College National Network.', ' No matter if you’re into the environment or salsa dancing, there is a Polk State student club or organization for you. The College offers dozens of student life opportunities — all you have to do is join. Don’t see what you’re looking for? Contact your campus Student Activities and Leadership Office (SALO) for information on how to start a new club.', ' Thank you @seuniversity for joining us today to share information about education opportunities for staff and facul… https://t.co/dRhJKa5uGn', ' Polk State Lakeland Gateway to College Collegiate High School is an exciting new opportunity for area students, typically between the ages of 16 and 21, who have earned 45% of the credits required for high school graduation. \\xa0All courses are taught on the Polk State Lakeland campus and offered during morning and afternoon hours, to provide students with maximum flexibility and opportunity for success. The school is funded in part through a grant from the Gateway to College National Network.', ' Polk State offers the advantages of\\xa0intimate campus life you might expect from a small college — but has a wide range of opportunities and services that are only possible with an institution that serves over 20,000 students each year.'}, 'curriculum': {' Polk State College is proud to be part of FUSE, a program in partnership with the University of South Florida that provides\\xa0eligible Polk State students with guaranteed admission to a USF System institution upon the successful completion of an associate in arts degree. This program is for students who are starting at Polk State just out of high school, and those that applied to\\xa0a USF System institution and were not immediately admitted.\\xa0Students who participate in FUSE\\xa0will:', ' Degree-seeking Students:\\xa015,755', ' The College offers six\\xa0bachelor’s degrees — the Bachelor of Applied Science in Supervision and Management, Bachelor of Science in Criminal Justice, \\xa0Bachelor of Science in Nursing,\\xa0Bachelor of Science in Aerospace Sciences, \\xa0Bachelor of Science in Early Childhood Education, and Bachelor of Science in Elementary Education\\xa0— to allow students to gain advanced training right here in Polk County. \\xa0\\n', ' Meta-majors are academic pathways for programs and degrees with similar General Education requirements that lead to similar careers.\\xa0 Students who are not sure what degree\\xa0 to\\xa0pursue can use a meta-major pathway to select\\xa0the appropriate General Education courses.\\xa0 Students are recommended to see an advisor or attend a Career Explorations workshop.\\xa0 For more information on meta-majors, click here.', ' All of Polk State’s degree programs are designed to meet the needs of its community, positioning students to be hired when they graduate or to succeed at the next level of education.', ' Throughout the year, Polk State hosts a diverse slate of special events and programs, from concerts to lectures to summer camps. It’s the College’s way of extending the learning that happens in its classrooms, creating a destination for anyone interested in deeper knowledge, new experiences, or just a little fun.', ' Polk State also offers the Associate in Science degree for those who seek to enter the workforce immediately after completing their education, and the Associate in Arts degree for those seeking to continue their studies at a four-year institution.', ' Polk State College, established in 1964, is a multi-campus institution serving over 20,000 students with Bachelor of Applied Science, Bachelor of Science, Associate in Arts and \\xa0Associate in Science degrees, as well as a wide range of certificate and workforce training options. The College also operates three charter high schools.', ' Polk’s Business, Engineering & Technology programs deliver the cutting-edge training employers demand.', ' Polk State College offers a variety of degrees and workforce certificates to prepare students for future success.'}, 'philosophy': set(), 'target': set(), 'mission': {' Polk State College is proud to be part of FUSE, a program in partnership with the University of South Florida that provides\\xa0eligible Polk State students with guaranteed admission to a USF System institution upon the successful completion of an associate in arts degree. This program is for students who are starting at Polk State just out of high school, and those that applied to\\xa0a USF System institution and were not immediately admitted.\\xa0Students who participate in FUSE\\xa0will:', ' The mission of Polk State Lakeland Gateway to College Collegiate High School, is to provide an\\xa0academic charter alternative for juniors and seniors transitioning to college.', ' Vision Statement:\\xa0All GHS enrollees will graduate from high school and college and become self-actualized citizens and successful leaders in their communities.'}, 'organizational_factors': {' Polk State’s advantages include small class sizes; hands-on learning; dedicated faculty; day and night classes; online options; affordable tuition; excellent financial aid; a diverse community and vibrant student life, including fine arts opportunities, clubs, and intercollegiate athletics.', ' At Polk State the doors are always open — to students, of course, but also the community as a whole.', ' Meta-majors are academic pathways for programs and degrees with similar General Education requirements that lead to similar careers.\\xa0 Students who are not sure what degree\\xa0 to\\xa0pursue can use a meta-major pathway to select\\xa0the appropriate General Education courses.\\xa0 Students are recommended to see an advisor or attend a Career Explorations workshop.\\xa0 For more information on meta-majors, click here.', ' All of Polk State’s degree programs are designed to meet the needs of its community, positioning students to be hired when they graduate or to succeed at the next level of education.', ' In her five-year run as an adjunct professor, Michelle Manzi resurrected the Polk State Music Department’s emphasis on female vocals…', ' This public charter school represents an exciting new opportunity for local area students who have earned 45% of the credits required for high school graduation, providing students with maximum flexibility and opportunity for success. The school was funded in part through a grant from the Gateway to College National Network.', ' 61% Female /\\xa036% Male', ' No matter if you’re into the environment or salsa dancing, there is a Polk State student club or organization for you. The College offers dozens of student life opportunities — all you have to do is join. Don’t see what you’re looking for? Contact your campus Student Activities and Leadership Office (SALO) for information on how to start a new club.', ' Average Age:\\xa025.4', ' Polk State Lakeland Gateway to College Collegiate High School is an exciting new opportunity for area students, typically between the ages of 16 and 21, who have earned 45% of the credits required for high school graduation. \\xa0All courses are taught on the Polk State Lakeland campus and offered during morning and afternoon hours, to provide students with maximum flexibility and opportunity for success. The school is funded in part through a grant from the Gateway to College National Network.'}}\n",
      "298POLK STATE COLLEGE COLLEGIATE HIGH SCHOOL\n",
      "{'school_name': 'RIVER CITY SCHOLARS CHARTER ACADEMY', 'history': set(), 'resources': {' Thank you @seuniversity for joining us today to share information about education opportunities for staff and facul… https://t.co/dRhJKa5uGn'}, 'curriculum': {' Polk’s Business, Engineering & Technology programs deliver the cutting-edge training employers demand.'}, 'philosophy': set(), 'target': set(), 'mission': set(), 'organizational_factors': set()}\n",
      "299RIVER CITY SCHOLARS CHARTER ACADEMY\n",
      "{'school_name': 'DETROIT ENTERPRISE ACADEMY', 'history': set(), 'resources': {' Thank you @seuniversity for joining us today to share information about education opportunities for staff and facul… https://t.co/dRhJKa5uGn'}, 'curriculum': set(), 'philosophy': set(), 'target': set(), 'mission': set(), 'organizational_factors': set()}\n",
      "300DETROIT ENTERPRISE ACADEMY\n",
      "{'school_name': 'LIGHTHOUSE COMMUNITY SCH INC', 'history': {' To reflect its new status as a baccalaureate institution, in 2009 the College changed its name to Polk State; previously it had been known as Polk Community College and, earlier in its history, Polk Junior College. Two years later, the College rebranded, adopting the Eagle as its mascot — chosen based on Polk County’s large eagle population — and a red, black and white color scheme.', ' To explain his approach to motivating students, Lavoie shared a story from his time working as a teacher in Boston:', ' By 1988, Polk State’s footprint in the county had grown to include a second campus, Polk State Lakeland, located on a former orange grove along U.S. 98 South between Lakeland and Bartow.', ' In 2007, Polk State inaugurated its fourth president, Dr. Eileen Holden, who brought to the institution more than two decades of experience in education, both as an instructor and an administrator.', ' With Holden’s leadership, the College added the Polk State JD Alexander Center in downtown Lake Wales and the Polk State Lake Wales Arts Center on State Road 60, in 2009 and 2011 respectively.', ' Polk State College, the first public higher education institution in Polk County, opened its doors in 1964, at a former World War II Army Air Force Base in Bartow.', ' In 1966, ground was broken for Polk State’s first permanent campus, Polk State Winter Haven, located on the shores of Lake Elbert. Within a decade, the campus had expanded to include numerous buildings, accommodating a growing student body and increased program offerings.'}, 'resources': {' This public charter school represents an exciting new opportunity for local area students who have earned 45% of the credits required for high school graduation, providing students with maximum flexibility and opportunity for success. The school was funded in part through a grant from the Gateway to College National Network.', ' Thank you @seuniversity for joining us today to share information about education opportunities for staff and facul… https://t.co/dRhJKa5uGn'}, 'curriculum': {' Polk State College is proud to be part of FUSE, a program in partnership with the University of South Florida that provides\\xa0eligible Polk State students with guaranteed admission to a USF System institution upon the successful completion of an associate in arts degree. This program is for students who are starting at Polk State just out of high school, and those that applied to\\xa0a USF System institution and were not immediately admitted.\\xa0Students who participate in FUSE\\xa0will:', ' Polk State College’s education programs include \\xa0bachelor’s degrees in Early Childhood Education and Elementary Education, an associate’s degree in Early Childhood Education and Management, and the Educator Preparation Institute, an accelerated training option for anyone who has a non-education bachelor’s degree and wants to become a teacher. ', ' Lavoie holds three degrees in special education and served as an administrator of residential programs for children with special needs for 30 years. He has served as a visiting lecturer for universities including Harvard, Georgetown and Syracuse, and has been featured on nationally televised programs including “Today” and “Good Morning America.” He has also served as a consultant on learning disabilities for agencies and organizations such as NPR, PBS, The New York Times and the National Center for Learning Disabilities.', ' To explain his approach to motivating students, Lavoie shared a story from his time working as a teacher in Boston:', ' The College offers six\\xa0bachelor’s degrees — the Bachelor of Applied Science in Supervision and Management, Bachelor of Science in Criminal Justice, \\xa0Bachelor of Science in Nursing,\\xa0Bachelor of Science in Aerospace Sciences, \\xa0Bachelor of Science in Early Childhood Education, and Bachelor of Science in Elementary Education\\xa0— to allow students to gain advanced training right here in Polk County. \\xa0\\n', ' Meta-majors are academic pathways for programs and degrees with similar General Education requirements that lead to similar careers.\\xa0 Students who are not sure what degree\\xa0 to\\xa0pursue can use a meta-major pathway to select\\xa0the appropriate General Education courses.\\xa0 Students are recommended to see an advisor or attend a Career Explorations workshop.\\xa0 For more information on meta-majors, click here.', ' All of Polk State’s degree programs are designed to meet the needs of its community, positioning students to be hired when they graduate or to succeed at the next level of education.', ' Polk State also offers the Associate in Science degree for those who seek to enter the workforce immediately after completing their education, and the Associate in Arts degree for those seeking to continue their studies at a four-year institution.', ' In 1966, ground was broken for Polk State’s first permanent campus, Polk State Winter Haven, located on the shores of Lake Elbert. Within a decade, the campus had expanded to include numerous buildings, accommodating a growing student body and increased program offerings.', ' Aside from expanding its physical presence in the county, in recent years the College has also added a suite of baccalaureate programs to its degree options. These include the Bachelor of Applied Science in Supervision and Management, the Bachelor of Science in Nursing, the Bachelor of Science in Criminal Justice, the Bachelor of Science in Aerospace Sciences, the Bachelor of Science in Early Childhood Education, and the Bachelor of Science in Elementary Education.', ' In 2014, the College expanded again, adding the Polk State Clear Springs Advanced Technology Center.\\xa0 The 45,000-square-foot facility off State Road 60 in Bartow houses high-tech degree programs and the Polk State Corporate College, which provides workforce training.', ' The growth continues at Polk State. In 2016, the Polk State Center for Public Safety opened in Winter Haven. The state-of-the-art facility houses the Polk State Kenneth C. Thompson Institute for Public Safety, as well as the College’s other public safety training and degree programs. The College also recently added a second location in South Lakeland, Polk State Airside Center East, to house its Aerospace Program; the original Airside location is now called Polk State Airside West and is home to the College’s medical imaging programs.', ' Polk State College offers a variety of degrees and workforce certificates to prepare students for future success.'}, 'philosophy': set(), 'target': set(), 'mission': {' Polk State College is proud to be part of FUSE, a program in partnership with the University of South Florida that provides\\xa0eligible Polk State students with guaranteed admission to a USF System institution upon the successful completion of an associate in arts degree. This program is for students who are starting at Polk State just out of high school, and those that applied to\\xa0a USF System institution and were not immediately admitted.\\xa0Students who participate in FUSE\\xa0will:', ' Lavoie said motivation is more important now than ever, because in our society, learning doesn’t end when students graduate from high school or college — it lasts a lifetime.', ' The mission of Polk State Lakeland Gateway to College Collegiate High School, is to provide an\\xa0academic charter alternative for juniors and seniors transitioning to college.', ' Vision Statement:\\xa0All GHS enrollees will graduate from high school and college and become self-actualized citizens and successful leaders in their communities.'}, 'organizational_factors': {' To reflect its new status as a baccalaureate institution, in 2009 the College changed its name to Polk State; previously it had been known as Polk Community College and, earlier in its history, Polk Junior College. Two years later, the College rebranded, adopting the Eagle as its mascot — chosen based on Polk County’s large eagle population — and a red, black and white color scheme.', ' Polk State College’s education programs include \\xa0bachelor’s degrees in Early Childhood Education and Elementary Education, an associate’s degree in Early Childhood Education and Management, and the Educator Preparation Institute, an accelerated training option for anyone who has a non-education bachelor’s degree and wants to become a teacher. ', ' Meta-majors are academic pathways for programs and degrees with similar General Education requirements that lead to similar careers.\\xa0 Students who are not sure what degree\\xa0 to\\xa0pursue can use a meta-major pathway to select\\xa0the appropriate General Education courses.\\xa0 Students are recommended to see an advisor or attend a Career Explorations workshop.\\xa0 For more information on meta-majors, click here.', ' “Events like today’s outstanding presentation by Richard Lavoie are all about student success,” said Beverly Woolery, director of Polk State’s Educator Preparation Institute and organizer of the Lavoie event.', ' All of Polk State’s degree programs are designed to meet the needs of its community, positioning students to be hired when they graduate or to succeed at the next level of education.', ' In her five-year run as an adjunct professor, Michelle Manzi resurrected the Polk State Music Department’s emphasis on female vocals…', ' This public charter school represents an exciting new opportunity for local area students who have earned 45% of the credits required for high school graduation, providing students with maximum flexibility and opportunity for success. The school was funded in part through a grant from the Gateway to College National Network.', ' During its first semester of operation, the College served nearly 1,200 students —twice the number expected — and it has continued to grow ever since.'}}\n",
      "301LIGHTHOUSE COMMUNITY SCH INC\n",
      "{'school_name': 'WESTLAKE CHARTER MIDDLE', 'history': {' Polk State College, established in 1964, is a multi-campus institution serving over 20,000 students with Bachelor of Applied Science, Bachelor of Science, Associate in Arts and \\xa0Associate in Science degrees, as well as a wide range of certificate and workforce training options. The College also operates three charter high schools.'}, 'resources': {' Thank you @seuniversity for joining us today to share information about education opportunities for staff and facul… https://t.co/dRhJKa5uGn', ' Polk State’s advantages include small class sizes; hands-on learning; dedicated faculty; day and night classes; online options; affordable tuition; excellent financial aid; a diverse community and vibrant student life, including fine arts opportunities, clubs, and intercollegiate athletics.'}, 'curriculum': {' Polk State College, established in 1964, is a multi-campus institution serving over 20,000 students with Bachelor of Applied Science, Bachelor of Science, Associate in Arts and \\xa0Associate in Science degrees, as well as a wide range of certificate and workforce training options. The College also operates three charter high schools.', ' Polk’s Business, Engineering & Technology programs deliver the cutting-edge training employers demand.', ' Degree-seeking Students:\\xa015,755'}, 'philosophy': set(), 'target': set(), 'mission': set(), 'organizational_factors': {' 61% Female /\\xa036% Male', ' Average Age:\\xa025.4', ' Polk State’s advantages include small class sizes; hands-on learning; dedicated faculty; day and night classes; online options; affordable tuition; excellent financial aid; a diverse community and vibrant student life, including fine arts opportunities, clubs, and intercollegiate athletics.'}}\n",
      "302WESTLAKE CHARTER MIDDLE\n",
      "{'school_name': 'VAN GOGH CHARTER', 'history': {' Polk State College, established in 1964, is a multi-campus institution serving over 20,000 students with Bachelor of Applied Science, Bachelor of Science, Associate in Arts and \\xa0Associate in Science degrees, as well as a wide range of certificate and workforce training options. The College also operates three charter high schools.'}, 'resources': {' Thank you @seuniversity for joining us today to share information about education opportunities for staff and facul… https://t.co/dRhJKa5uGn', ' Polk State’s advantages include small class sizes; hands-on learning; dedicated faculty; day and night classes; online options; affordable tuition; excellent financial aid; a diverse community and vibrant student life, including fine arts opportunities, clubs, and intercollegiate athletics.'}, 'curriculum': {' Polk State College, established in 1964, is a multi-campus institution serving over 20,000 students with Bachelor of Applied Science, Bachelor of Science, Associate in Arts and \\xa0Associate in Science degrees, as well as a wide range of certificate and workforce training options. The College also operates three charter high schools.', ' Polk’s Business, Engineering & Technology programs deliver the cutting-edge training employers demand.', ' Degree-seeking Students:\\xa015,755'}, 'philosophy': set(), 'target': set(), 'mission': set(), 'organizational_factors': {' 61% Female /\\xa036% Male', ' Average Age:\\xa025.4', ' Polk State’s advantages include small class sizes; hands-on learning; dedicated faculty; day and night classes; online options; affordable tuition; excellent financial aid; a diverse community and vibrant student life, including fine arts opportunities, clubs, and intercollegiate athletics.'}}\n",
      "303VAN GOGH CHARTER\n",
      "{'school_name': 'SUMMIT ACADEMY TRANSITION HIGH SCHOOL DAYTON', 'history': set(), 'resources': {' Thank you @seuniversity for joining us today to share information about education opportunities for staff and facul… https://t.co/dRhJKa5uGn'}, 'curriculum': set(), 'philosophy': set(), 'target': set(), 'mission': set(), 'organizational_factors': set()}\n",
      "304SUMMIT ACADEMY TRANSITION HIGH SCHOOL DAYTON\n",
      "{'school_name': 'WESTCHESTER ACADEMY FOR INTERNATIONAL STUDIES', 'history': set(), 'resources': {' This public charter school represents an exciting new opportunity for local area students who have earned 45% of the credits required for high school graduation, providing students with maximum flexibility and opportunity for success. The school was funded in part through a grant from the Gateway to College National Network.', ' Thank you @seuniversity for joining us today to share information about education opportunities for staff and facul… https://t.co/dRhJKa5uGn'}, 'curriculum': {' Acceptable methods of payment include:', ' Polk State College has several exciting, educational options for children during the summer. Polk State Kids at College has been a favorite among Polk County families for 20 years, for its variety of fun, learning-based programs. More recent additions include Scholarobotics Academy and TALON Robotics, both of which deliver STEM education through the fun of experimenting with robots.', ' Back to Youth Programs'}, 'philosophy': set(), 'target': set(), 'mission': {' The mission of Polk State Lakeland Gateway to College Collegiate High School, is to provide an\\xa0academic charter alternative for juniors and seniors transitioning to college.', ' Vision Statement:\\xa0All GHS enrollees will graduate from high school and college and become self-actualized citizens and successful leaders in their communities.'}, 'organizational_factors': {' This public charter school represents an exciting new opportunity for local area students who have earned 45% of the credits required for high school graduation, providing students with maximum flexibility and opportunity for success. The school was funded in part through a grant from the Gateway to College National Network.', ' A-C-T Environmental and Infrastructure\\nCentral Florida Safety Training Consultants, LLC\\nGreen Partners\\nPB Americas, Inc.\\nSafety Training & Consulting\\nSolar Source Institute', ' Welcome to the Polk State College Mathematics Department homepage. There are currently 10 full-time faculty members located on the Winter Haven campus and 11 full-time faculty members located on the Lakeland campus. The Mathematics Department prides itself on innovative teaching techniques, the use of technology to enhance instruction, and consideration of students’ needs.', ' Polk State College offers a wide range of mathematics courses, from Developmental Mathematics to Differential Equations. The Mathematics Department is currently implementing the Quality Enhancement Plan (QEP), the goal of which is to create a learner-centered environment and to help students cross the bridge to math success. If you have any questions or concerns, please do not hesitate to contact us.'}}\n",
      "305WESTCHESTER ACADEMY FOR INTERNATIONAL STUDIES\n",
      "{'school_name': 'CITY ACADEMY', 'history': {' The cost of the two-year program is approximately $10,800 (in-state tuition). This cost includes course fees, books, uniforms, national registry fees,\\xa0physical, immunization records,\\xa0and national background checks. This figure does not include any college prep courses, additional classes in which the student may enroll, or travel to and from clinical rotations.'}, 'resources': {' Thank you @seuniversity for joining us today to share information about education opportunities for staff and facul… https://t.co/dRhJKa5uGn'}, 'curriculum': {' CVT Program Application', ' In addition to the prerequisites, the following are the minimum requirements for admission to the Cardiovascular Technology Program:', ' After acceptance into the CVT Program, the following co-requisites must be completed by each student, under the direction of the program director, prior to beginning program core courses in the fall term:', '  PROGRAM COST', ' The cost of the two-year program is approximately $10,800 (in-state tuition). This cost includes course fees, books, uniforms, national registry fees,\\xa0physical, immunization records,\\xa0and national background checks. This figure does not include any college prep courses, additional classes in which the student may enroll, or travel to and from clinical rotations.', ' As director of Polk State’s Cardiovascular Technology (CVT) program, which prepares students to assist physicians in such highly complicated procedures…', ' The CVT Program is a limited access program that admits only one class per year. The application deadline is no later than April 30 of each year, with classes beginning each August. If the application deadline falls on a weekend, the application is due on the Friday prior to April 30.\\xa0 Students seeking admission into the CVT Program may obtain a program application from the link at the bottom of this page, an academic advisor, or from the program director.\\xa0 Prospective students are encouraged to contact the program director to\\xa0clarify answers to\\xa0questions about\\xa0the program\\xa0or the application process.\\xa0 The following program prerequisite courses must be completed with a grade of C or better prior to admission:'}, 'philosophy': set(), 'target': set(), 'mission': {' In addition to the prerequisites, the following are the minimum requirements for admission to the Cardiovascular Technology Program:', ' The CVT Program is a limited access program that admits only one class per year. The application deadline is no later than April 30 of each year, with classes beginning each August. If the application deadline falls on a weekend, the application is due on the Friday prior to April 30.\\xa0 Students seeking admission into the CVT Program may obtain a program application from the link at the bottom of this page, an academic advisor, or from the program director.\\xa0 Prospective students are encouraged to contact the program director to\\xa0clarify answers to\\xa0questions about\\xa0the program\\xa0or the application process.\\xa0 The following program prerequisite courses must be completed with a grade of C or better prior to admission:'}, 'organizational_factors': {' Back to About, Business Office or Community'}}\n",
      "306CITY ACADEMY\n",
      "{'school_name': 'BYRNEVILLE ELEMENTARY SCHOOL, INC.', 'history': set(), 'resources': {' Thank you @seuniversity for joining us today to share information about education opportunities for staff and facul… https://t.co/dRhJKa5uGn'}, 'curriculum': set(), 'philosophy': set(), 'target': set(), 'mission': set(), 'organizational_factors': set()}\n",
      "307BYRNEVILLE ELEMENTARY SCHOOL, INC.\n",
      "{'school_name': 'ACACIA MIDDLE CHARTER', 'history': set(), 'resources': {' Thank you @seuniversity for joining us today to share information about education opportunities for staff and facul… https://t.co/dRhJKa5uGn'}, 'curriculum': set(), 'philosophy': set(), 'target': set(), 'mission': set(), 'organizational_factors': set()}\n",
      "308ACACIA MIDDLE CHARTER\n",
      "{'school_name': 'WHITTIER ELEMENTARY', 'history': set(), 'resources': {' Thank you @seuniversity for joining us today to share information about education opportunities for staff and facul… https://t.co/dRhJKa5uGn', ' Our mission is to provide professional training and educational programs to law enforcement, corrections and correctional probation officers. Officers are trained to deliver the highest quality services to all citizens. This is accomplished through a partnership between the Institute of Public Safety, the Florida Criminal Justice Standards and Training Commission, the Florida Department of Law Enforcement, local, regional and state agencies.', ' Back to Academics or Student Life & Services'}, 'curriculum': {' Polk State College is proud to be part of FUSE, a program in partnership with the University of South Florida that provides\\xa0eligible Polk State students with guaranteed admission to a USF System institution upon the successful completion of an associate in arts degree. This program is for students who are starting at Polk State just out of high school, and those that applied to\\xa0a USF System institution and were not immediately admitted.\\xa0Students who participate in FUSE\\xa0will:', ' Our mission is to provide professional training and educational programs to law enforcement, corrections and correctional probation officers. Officers are trained to deliver the highest quality services to all citizens. This is accomplished through a partnership between the Institute of Public Safety, the Florida Criminal Justice Standards and Training Commission, the Florida Department of Law Enforcement, local, regional and state agencies.', ' Students are welcome to take as many or as few Honors Program courses as they wish.\\xa0 However, students must complete a minimum of 18 credit hours in courses with the Honors Program designation and graduate from Polk State College with a 3.2 GPA to complete the requirements of the Honors Program.', ' The College offers six\\xa0bachelor’s degrees — the Bachelor of Applied Science in Supervision and Management, Bachelor of Science in Criminal Justice, \\xa0Bachelor of Science in Nursing,\\xa0Bachelor of Science in Aerospace Sciences, \\xa0Bachelor of Science in Early Childhood Education, and Bachelor of Science in Elementary Education\\xa0— to allow students to gain advanced training right here in Polk County. \\xa0\\n', ' The Polk State College\\xa0Honors Program is designed for highly-motivated, talented students who wish to be challenged by an intellectually stimulating academic program of study.\\xa0Honors Program courses are not simply regular courses with additional work; instead they provide alternative approaches to learning that are student-centered and interactive, promoting creativity and global understanding. Honors classes are small, enabling students and faculty in each class to form a close-knit learning community.', ' Meta-majors are academic pathways for programs and degrees with similar General Education requirements that lead to similar careers.\\xa0 Students who are not sure what degree\\xa0 to\\xa0pursue can use a meta-major pathway to select\\xa0the appropriate General Education courses.\\xa0 Students are recommended to see an advisor or attend a Career Explorations workshop.\\xa0 For more information on meta-majors, click here.', ' All of Polk State’s degree programs are designed to meet the needs of its community, positioning students to be hired when they graduate or to succeed at the next level of education.', ' Polk State also offers the Associate in Science degree for those who seek to enter the workforce immediately after completing their education, and the Associate in Arts degree for those seeking to continue their studies at a four-year institution.', ' A graduate of the Polk State College Honors Program will be able to:', ' Polk State College offers a variety of degrees and workforce certificates to prepare students for future success.', ' Back to Academics or Student Life & Services'}, 'philosophy': set(), 'target': set(), 'mission': {' Polk State College is proud to be part of FUSE, a program in partnership with the University of South Florida that provides\\xa0eligible Polk State students with guaranteed admission to a USF System institution upon the successful completion of an associate in arts degree. This program is for students who are starting at Polk State just out of high school, and those that applied to\\xa0a USF System institution and were not immediately admitted.\\xa0Students who participate in FUSE\\xa0will:', ' Our mission is to provide professional training and educational programs to law enforcement, corrections and correctional probation officers. Officers are trained to deliver the highest quality services to all citizens. This is accomplished through a partnership between the Institute of Public Safety, the Florida Criminal Justice Standards and Training Commission, the Florida Department of Law Enforcement, local, regional and state agencies.'}, 'organizational_factors': {' The Polk State College\\xa0Honors Program is designed for highly-motivated, talented students who wish to be challenged by an intellectually stimulating academic program of study.\\xa0Honors Program courses are not simply regular courses with additional work; instead they provide alternative approaches to learning that are student-centered and interactive, promoting creativity and global understanding. Honors classes are small, enabling students and faculty in each class to form a close-knit learning community.', ' Meta-majors are academic pathways for programs and degrees with similar General Education requirements that lead to similar careers.\\xa0 Students who are not sure what degree\\xa0 to\\xa0pursue can use a meta-major pathway to select\\xa0the appropriate General Education courses.\\xa0 Students are recommended to see an advisor or attend a Career Explorations workshop.\\xa0 For more information on meta-majors, click here.', ' All of Polk State’s degree programs are designed to meet the needs of its community, positioning students to be hired when they graduate or to succeed at the next level of education.'}}\n",
      "309WHITTIER ELEMENTARY\n",
      "{'school_name': 'ZOE LEARNING ACAD - AMBASSADOR CAMPUS', 'history': set(), 'resources': {' Thank you @seuniversity for joining us today to share information about education opportunities for staff and facul… https://t.co/dRhJKa5uGn'}, 'curriculum': set(), 'philosophy': set(), 'target': set(), 'mission': set(), 'organizational_factors': set()}\n",
      "310ZOE LEARNING ACAD - AMBASSADOR CAMPUS\n",
      "{'school_name': 'YOUNG WOMENS LEADERSHIP CHARTR HS', 'history': set(), 'resources': {' Thank you @seuniversity for joining us today to share information about education opportunities for staff and facul… https://t.co/dRhJKa5uGn'}, 'curriculum': set(), 'philosophy': set(), 'target': set(), 'mission': set(), 'organizational_factors': set()}\n",
      "311YOUNG WOMENS LEADERSHIP CHARTR HS\n",
      "{'school_name': 'YUBA COUNTY CAREER PREPARATORY CHARTER', 'history': set(), 'resources': {' Thank you @seuniversity for joining us today to share information about education opportunities for staff and facul… https://t.co/dRhJKa5uGn'}, 'curriculum': set(), 'philosophy': set(), 'target': set(), 'mission': set(), 'organizational_factors': set()}\n",
      "312YUBA COUNTY CAREER PREPARATORY CHARTER\n",
      "{'school_name': 'YOUNG SCHOLARS OF WESTERN PENNSYLVANIA C', 'history': {' “Ask your child what happened in the beginning, middle and end of the story,” she said. “This will aid in comprehension.”'}, 'resources': {' Back to Student Life & Services', ' Thank you @seuniversity for joining us today to share information about education opportunities for staff and facul… https://t.co/dRhJKa5uGn', ' Career services are free to Polk State students. We can help you:'}, 'curriculum': {' Here, Polk State Early Childhood Education and Management Program Director Karen Greeson shares her ideas and tips for easing the kindergarten transition. Before working with their children, however, Greeson recommends that\\xa0parents start with themselves.', ' Polk’s Business, Engineering & Technology programs deliver the cutting-edge training employers demand.', ' Polk State offers an associate’s degree in Early Childhood Education and Management, as well as certificates for those looking to enter or progress within the field. ', ' Nowadays, even the youngest children get their share of screen time, but Greeson said as the school year approaches, parents need to do their best to wean their children from electronics.'}, 'philosophy': set(), 'target': set(), 'mission': {' Other ways to prep kids socially and emotionally for kindergarten: Assign them responsibilities around the house, because they will be expected to help out in the classroom, and schedule as many play dates with as possible, to get them used to interacting with others.'}, 'organizational_factors': {' For children, even if they’ve spent years in preschool environments, kindergarten will come as something of a shock. They will have a new teacher, new classroom, new classmates and new routine. One of the most important things parents can do is prepare their children to embrace the changes.', ' Another big thing parents can do to get children ready for the first day: Help them learn to express frustration verbally, rather than erupting into temper tantrums.'}}\n",
      "313YOUNG SCHOLARS OF WESTERN PENNSYLVANIA C\n",
      "{'school_name': 'WEST PHILA. ACHIEVEMENT CES', 'history': set(), 'resources': {' Thank you @seuniversity for joining us today to share information about education opportunities for staff and facul… https://t.co/dRhJKa5uGn'}, 'curriculum': {' Polk’s Business, Engineering & Technology programs deliver the cutting-edge training employers demand.'}, 'philosophy': set(), 'target': set(), 'mission': set(), 'organizational_factors': set()}\n",
      "314WEST PHILA. ACHIEVEMENT CES\n",
      "{'school_name': 'JOHN H WOOD JR CS GRANBURY', 'history': set(), 'resources': {' Thank you @seuniversity for joining us today to share information about education opportunities for staff and facul… https://t.co/dRhJKa5uGn'}, 'curriculum': {' Polk State’s Bachelor of Science in Early Childhood Education Program is a 60-hour, state-approved\\xa0teacher preparation program that builds on an existing associate’s degree, either the Associate in Arts or the Associate in Science in Early Childhood Education and Management.\\xa0Graduates of the program will be eligible for Florida Professional Teacher Certification in Pre-kindergarten/Primary Education (age 3-grade 3) with ESOL and Reading Endorsements.', ' Polk’s Business, Engineering & Technology programs deliver the cutting-edge training employers demand.', ' Please see the Program Pathways\\xa0table for clarification.', ' Teacher candidates in the Early Childhood Education program will engage in rigorous courses that integrated strategies for teaching English language learners and infuse literacy instruction across content areas appropriate for young learners. In addition, candidates will complete courses designed to develop knowledge of STEM content and the robust instructional skills they need to engage and excite children during the formative years of early learning. Polk State’s Bachelor of Science in Early Childhood Education program integrates theory with teaching practice to produce teachers who will spark imaginations and ignite the future.\\xa0', ' Please see the Program of Study plans for the AS to BS and AA to BS pathways for a list of courses and the recommended program sequence.'}, 'philosophy': set(), 'target': set(), 'mission': set(), 'organizational_factors': {' Polk State’s Bachelor of Science in Early Childhood Education Program is a 60-hour, state-approved\\xa0teacher preparation program that builds on an existing associate’s degree, either the Associate in Arts or the Associate in Science in Early Childhood Education and Management.\\xa0Graduates of the program will be eligible for Florida Professional Teacher Certification in Pre-kindergarten/Primary Education (age 3-grade 3) with ESOL and Reading Endorsements.'}}\n",
      "315JOHN H WOOD JR CS GRANBURY\n",
      "{'school_name': 'WILLOW CREEK CHARTER SCHOOL', 'history': set(), 'resources': {' Thank you @seuniversity for joining us today to share information about education opportunities for staff and facul… https://t.co/dRhJKa5uGn'}, 'curriculum': {' Polk’s Business, Engineering & Technology programs deliver the cutting-edge training employers demand.'}, 'philosophy': set(), 'target': set(), 'mission': set(), 'organizational_factors': set()}\n",
      "316WILLOW CREEK CHARTER SCHOOL\n",
      "{'school_name': 'WHITE PINE ACADEMY', 'history': set(), 'resources': {' Thank you @seuniversity for joining us today to share information about education opportunities for staff and facul… https://t.co/dRhJKa5uGn'}, 'curriculum': {' Polk’s Business, Engineering & Technology programs deliver the cutting-edge training employers demand.'}, 'philosophy': set(), 'target': set(), 'mission': set(), 'organizational_factors': set()}\n",
      "317WHITE PINE ACADEMY\n",
      "{'school_name': 'WEST RIDGE ACADEMY', 'history': {' Downloadable Media\\nThe following logos may be used by Polk State personnel in accordance with the guidelines articulated above. Please keep in mind that each of these marks is designed to be used on specific backgrounds. They should not be used against contrasting backgrounds, because it will have the effect of “boxing in” the logo. If you have any questions about their proper use — or if you need access to other approved Polk State marks, please contact OCPA.', ' Believe it or not, there are sometimes issues with matching black. If you want to know more about this, drop by OCPA – and bring some Kleenex. It’s a sad, sad story, and we’re happy to share.', ' There are literally DOZENS of approved Polk State marks – each of which is just as important and just as protected as any of the others. Which mark to use in a given situation depends very much on the context. Some are designed to work well on light backgrounds; some on dark. Some are designed primarily for “internal” use; some are ideal for “formal” use with external audiences. OCPA is delighted to help folks identify the perfect logo for any occasion that requires a logo – but keep in mind that some things do NOT need to be branded with a logo (though they may, perhaps, be branded in other ways).'}, 'resources': {' Thank you @seuniversity for joining us today to share information about education opportunities for staff and facul… https://t.co/dRhJKa5uGn', ' The Radiography Program is dedicated to the concept of equal opportunity.\\xa0 The Radiography Program will not discriminate on the basis of race, color, religion, sex, age, national origin or marital status, or against any qualified handicapped individual in its program acceptance practices or in the treatment of students.\\xa0 Recognizing that sexual harassment constitutes discrimination on the basis of sex and violates this rule, the Radiography Program shall not tolerate such conduct.', ' \\xa0The Radiography Program fosters and supports creative and positive learning experiences within an atmosphere of academic excellence and continuous improvement.\\xa0 Our goal is to provide personalized services to assure that every student acquires the knowledge, skills and professional attributes necessary to succeed as radiographers.'}, 'curriculum': {' Program Goals and Student Learning Outcomes', ' Program Mission Statement', ' Polk State has partnered with Strategic Marketing Affiliates (SMA) to manage the College’s trademark licensing program. For more information, contact SMA or download our\\xa0Trademark Licensing Program\\xa0pdf.', ' \\xa0The Radiography Program fosters and supports creative and positive learning experiences within an atmosphere of academic excellence and continuous improvement.\\xa0 Our goal is to provide personalized services to assure that every student acquires the knowledge, skills and professional attributes necessary to succeed as radiographers.', ' We will also use a variety of other taglines for various purposes – either to promote a specific campaign, spotlight a particular program, or connect with events around us. “We are Polk” is the universal constant, but that doesn’t mean we may not occasionally use (as we have) taglines such as “We care for Polk” (for our Health Sciences materials) or “We protect Polk” (for our Public Safety materials) or “Make summer count” (for an enrollment campaign).', ' One of the important features of the current branding program is that the College has significantly cut back on the number of department- or program-level logos. This creates for a much more unified, compelling brand and adheres to “best practice” in large organizations (whether in higher education or in the corporate world). While the rebrand “took away” some logos from units that may have previously had their own, distinctive look and feel, it now allows all elements of Polk State – from our pre-collegiate programs for 5th graders to our non-degree programs for corporate partners to our athletics program to our various service units to the President’s Office to… — you see what we mean! The visual identity of each of those elements now connects very explicitly to each of the others. We are ALL Polk.', ' Polk’s Business, Engineering & Technology programs deliver the cutting-edge training employers demand.', ' The Radiography Program is dedicated to the concept of equal opportunity.\\xa0 The Radiography Program will not discriminate on the basis of race, color, religion, sex, age, national origin or marital status, or against any qualified handicapped individual in its program acceptance practices or in the treatment of students.\\xa0 Recognizing that sexual harassment constitutes discrimination on the basis of sex and violates this rule, the Radiography Program shall not tolerate such conduct.', ' The program will graduate entry level technologists.\\xa0', ' Our official gold, used\\xa0for our athletics and\\xa0honors programs, is PMS 130.', ' Colors\\nPolk State’s primary colors are red & black (& white). Our secondary color palette consists of a nearly endless variety of grays/charcoals/silvers. Which color or shade is determined by the specific context and application. Our official color palette also includes the gold you’ve seen in the eagle’s beak and talon on our athletics marks, but that color is primarily reserved for the athletics teams and our Honors Program. We are also developing a tertiary color palette – colors other than the ones mentioned above – that are available to complement our primary and secondary color palettes. Those tertiary colors include a sky blue and a wide range of silver/grays.'}, 'philosophy': {' General Principles', ' You may have noticed that the College has a trademarked “wordmark” of the “We are Polk” tagline. As often as possible, we prefer to use the particular wordmark for those particular words – although there will always be exceptions. Again, we attempt to use repetition and consistency to help underscore the brand’s values.', ' The “brand” of Polk State is much more than a logo or a set of colors. Our brand is the sum total of our name, our values, our iconic (and trademarked) imagery, our colors, our fonts, our reputation and our statements of market positioning.'}, 'target': set(), 'mission': {' Downloadable Media\\nThe following logos may be used by Polk State personnel in accordance with the guidelines articulated above. Please keep in mind that each of these marks is designed to be used on specific backgrounds. They should not be used against contrasting backgrounds, because it will have the effect of “boxing in” the logo. If you have any questions about their proper use — or if you need access to other approved Polk State marks, please contact OCPA.', ' Program Mission Statement', ' We want our brand taken as seriously and treated with as much respect as other leading brands, such as Disney, Nike, Publix, or the state’s leading state universities. There is no reason at all that our brand should be any less carefully protected or aggressively promoted than any of those other brands. Why? Because our students are awesome, and they deserve the very best. You are awesome, and you, too, deserve the very best.', ' The protection and cultivation of a brand is a never-ending task. (Imagine what would happen if you started printing homemade Mickey Mouse t-shirts in your garage: as big as Disney is, they will always make time to prosecute anyone who infringes on the brand, no matter how small the “infringement” may be.) It is also a very worthwhile task. The more vigilantly we nurture a brand, the more valuable it becomes. If Nike tolerated rampant counterfeiting, the value of their sneakers would plummet. Because they protect the brand to the extent possible, consumers are willing to pay a premium to experience the brand. In Polk State’s case, we do not protect the brand in hopes of charging more but in hopes of causing students, employers, donors, alumni, etc. to see more and more value in what we do.'}, 'organizational_factors': {' The new brand was launched with a very simple premise: We are Polk. We always have been, and we always will be. When we were Polk Junior College – we were Polk. When we were Polk Community College – we were Polk. No matter what happens around us, we are the only college or university that is exclusively and specifically focused on the higher education needs of Polk County. That is our reason for existing – and it’s also our competitive advantage in an increasingly crowded marketplace.', ' Back to About or Community', ' For this reason (and a few others), we are moving away from references to our initials. Over the last fifty years, we have been PJC, PCC and PSC. But we have ALWAYS been Polk! We own our community, and they own us. Our future and the County’s are inextricably linked, and we welcome that connection!'}}\n",
      "318WEST RIDGE ACADEMY\n",
      "{'school_name': 'WATTS LEARNING CENTER CHARTER MIDDLE', 'history': set(), 'resources': {' Thank you @seuniversity for joining us today to share information about education opportunities for staff and facul… https://t.co/dRhJKa5uGn'}, 'curriculum': {' Polk’s Business, Engineering & Technology programs deliver the cutting-edge training employers demand.'}, 'philosophy': set(), 'target': set(), 'mission': set(), 'organizational_factors': set()}\n",
      "319WATTS LEARNING CENTER CHARTER MIDDLE\n",
      "{'school_name': 'WATERFORD MONTESSORI ACADEMY', 'history': set(), 'resources': {' Thank you @seuniversity for joining us today to share information about education opportunities for staff and facul… https://t.co/dRhJKa5uGn'}, 'curriculum': {' Polk State College is proud to be part of FUSE, a program in partnership with the University of South Florida that provides\\xa0eligible Polk State students with guaranteed admission to a USF System institution upon the successful completion of an associate in arts degree. This program is for students who are starting at Polk State just out of high school, and those that applied to\\xa0a USF System institution and were not immediately admitted.\\xa0Students who participate in FUSE\\xa0will:', ' The College offers six\\xa0bachelor’s degrees — the Bachelor of Applied Science in Supervision and Management, Bachelor of Science in Criminal Justice, \\xa0Bachelor of Science in Nursing,\\xa0Bachelor of Science in Aerospace Sciences, \\xa0Bachelor of Science in Early Childhood Education, and Bachelor of Science in Elementary Education\\xa0— to allow students to gain advanced training right here in Polk County. \\xa0\\n', ' Meta-majors are academic pathways for programs and degrees with similar General Education requirements that lead to similar careers.\\xa0 Students who are not sure what degree\\xa0 to\\xa0pursue can use a meta-major pathway to select\\xa0the appropriate General Education courses.\\xa0 Students are recommended to see an advisor or attend a Career Explorations workshop.\\xa0 For more information on meta-majors, click here.', ' All of Polk State’s degree programs are designed to meet the needs of its community, positioning students to be hired when they graduate or to succeed at the next level of education.', ' Polk State also offers the Associate in Science degree for those who seek to enter the workforce immediately after completing their education, and the Associate in Arts degree for those seeking to continue their studies at a four-year institution.', ' All of the faculty and staff in the Early Childhood Education and Management program are dedicated to helping students be successful with their educational goals. Please contact us with any questions, comments, or concerns.', ' Polk’s Business, Engineering & Technology programs deliver the cutting-edge training employers demand.', ' Polk State College offers a variety of degrees and workforce certificates to prepare students for future success.', ' Early Childhood Education and Management Certificate Programs is a part of Education'}, 'philosophy': set(), 'target': set(), 'mission': {' Polk State College is proud to be part of FUSE, a program in partnership with the University of South Florida that provides\\xa0eligible Polk State students with guaranteed admission to a USF System institution upon the successful completion of an associate in arts degree. This program is for students who are starting at Polk State just out of high school, and those that applied to\\xa0a USF System institution and were not immediately admitted.\\xa0Students who participate in FUSE\\xa0will:'}, 'organizational_factors': {' Meta-majors are academic pathways for programs and degrees with similar General Education requirements that lead to similar careers.\\xa0 Students who are not sure what degree\\xa0 to\\xa0pursue can use a meta-major pathway to select\\xa0the appropriate General Education courses.\\xa0 Students are recommended to see an advisor or attend a Career Explorations workshop.\\xa0 For more information on meta-majors, click here.', ' All of Polk State’s degree programs are designed to meet the needs of its community, positioning students to be hired when they graduate or to succeed at the next level of education.'}}\n",
      "320WATERFORD MONTESSORI ACADEMY\n"
     ]
    },
    {
     "ename": "ConnectionError",
     "evalue": "('Connection aborted.', BadStatusLine(\"''\",))",
     "output_type": "error",
     "traceback": [
      "\u001b[0;31m---------------------------------------------------------------------------\u001b[0m",
      "\u001b[0;31mBadStatusLine\u001b[0m                             Traceback (most recent call last)",
      "\u001b[0;32m/Users/anhnguyen/anaconda3/lib/python3.4/site-packages/requests/packages/urllib3/connectionpool.py\u001b[0m in \u001b[0;36murlopen\u001b[0;34m(self, method, url, body, headers, retries, redirect, assert_same_host, timeout, pool_timeout, release_conn, chunked, **response_kw)\u001b[0m\n\u001b[1;32m    594\u001b[0m                                                   \u001b[0mbody\u001b[0m\u001b[0;34m=\u001b[0m\u001b[0mbody\u001b[0m\u001b[0;34m,\u001b[0m \u001b[0mheaders\u001b[0m\u001b[0;34m=\u001b[0m\u001b[0mheaders\u001b[0m\u001b[0;34m,\u001b[0m\u001b[0;34m\u001b[0m\u001b[0m\n\u001b[0;32m--> 595\u001b[0;31m                                                   chunked=chunked)\n\u001b[0m\u001b[1;32m    596\u001b[0m \u001b[0;34m\u001b[0m\u001b[0m\n",
      "\u001b[0;32m/Users/anhnguyen/anaconda3/lib/python3.4/site-packages/requests/packages/urllib3/connectionpool.py\u001b[0m in \u001b[0;36m_make_request\u001b[0;34m(self, conn, method, url, timeout, chunked, **httplib_request_kw)\u001b[0m\n\u001b[1;32m    392\u001b[0m                     \u001b[0;31m# otherwise it looks like a programming error was the cause.\u001b[0m\u001b[0;34m\u001b[0m\u001b[0;34m\u001b[0m\u001b[0m\n\u001b[0;32m--> 393\u001b[0;31m                     \u001b[0msix\u001b[0m\u001b[0;34m.\u001b[0m\u001b[0mraise_from\u001b[0m\u001b[0;34m(\u001b[0m\u001b[0me\u001b[0m\u001b[0;34m,\u001b[0m \u001b[0;32mNone\u001b[0m\u001b[0;34m)\u001b[0m\u001b[0;34m\u001b[0m\u001b[0m\n\u001b[0m\u001b[1;32m    394\u001b[0m         \u001b[0;32mexcept\u001b[0m \u001b[0;34m(\u001b[0m\u001b[0mSocketTimeout\u001b[0m\u001b[0;34m,\u001b[0m \u001b[0mBaseSSLError\u001b[0m\u001b[0;34m,\u001b[0m \u001b[0mSocketError\u001b[0m\u001b[0;34m)\u001b[0m \u001b[0;32mas\u001b[0m \u001b[0me\u001b[0m\u001b[0;34m:\u001b[0m\u001b[0;34m\u001b[0m\u001b[0m\n",
      "\u001b[0;32m/Users/anhnguyen/anaconda3/lib/python3.4/site-packages/requests/packages/urllib3/packages/six.py\u001b[0m in \u001b[0;36mraise_from\u001b[0;34m(value, from_value)\u001b[0m\n",
      "\u001b[0;32m/Users/anhnguyen/anaconda3/lib/python3.4/site-packages/requests/packages/urllib3/connectionpool.py\u001b[0m in \u001b[0;36m_make_request\u001b[0;34m(self, conn, method, url, timeout, chunked, **httplib_request_kw)\u001b[0m\n\u001b[1;32m    388\u001b[0m                 \u001b[0;32mtry\u001b[0m\u001b[0;34m:\u001b[0m\u001b[0;34m\u001b[0m\u001b[0m\n\u001b[0;32m--> 389\u001b[0;31m                     \u001b[0mhttplib_response\u001b[0m \u001b[0;34m=\u001b[0m \u001b[0mconn\u001b[0m\u001b[0;34m.\u001b[0m\u001b[0mgetresponse\u001b[0m\u001b[0;34m(\u001b[0m\u001b[0;34m)\u001b[0m\u001b[0;34m\u001b[0m\u001b[0m\n\u001b[0m\u001b[1;32m    390\u001b[0m                 \u001b[0;32mexcept\u001b[0m \u001b[0mException\u001b[0m \u001b[0;32mas\u001b[0m \u001b[0me\u001b[0m\u001b[0;34m:\u001b[0m\u001b[0;34m\u001b[0m\u001b[0m\n",
      "\u001b[0;32m/Users/anhnguyen/anaconda3/lib/python3.4/http/client.py\u001b[0m in \u001b[0;36mgetresponse\u001b[0;34m(self)\u001b[0m\n\u001b[1;32m   1226\u001b[0m         \u001b[0;32mtry\u001b[0m\u001b[0;34m:\u001b[0m\u001b[0;34m\u001b[0m\u001b[0m\n\u001b[0;32m-> 1227\u001b[0;31m             \u001b[0mresponse\u001b[0m\u001b[0;34m.\u001b[0m\u001b[0mbegin\u001b[0m\u001b[0;34m(\u001b[0m\u001b[0;34m)\u001b[0m\u001b[0;34m\u001b[0m\u001b[0m\n\u001b[0m\u001b[1;32m   1228\u001b[0m             \u001b[0;32massert\u001b[0m \u001b[0mresponse\u001b[0m\u001b[0;34m.\u001b[0m\u001b[0mwill_close\u001b[0m \u001b[0;34m!=\u001b[0m \u001b[0m_UNKNOWN\u001b[0m\u001b[0;34m\u001b[0m\u001b[0m\n",
      "\u001b[0;32m/Users/anhnguyen/anaconda3/lib/python3.4/http/client.py\u001b[0m in \u001b[0;36mbegin\u001b[0;34m(self)\u001b[0m\n\u001b[1;32m    385\u001b[0m         \u001b[0;32mwhile\u001b[0m \u001b[0;32mTrue\u001b[0m\u001b[0;34m:\u001b[0m\u001b[0;34m\u001b[0m\u001b[0m\n\u001b[0;32m--> 386\u001b[0;31m             \u001b[0mversion\u001b[0m\u001b[0;34m,\u001b[0m \u001b[0mstatus\u001b[0m\u001b[0;34m,\u001b[0m \u001b[0mreason\u001b[0m \u001b[0;34m=\u001b[0m \u001b[0mself\u001b[0m\u001b[0;34m.\u001b[0m\u001b[0m_read_status\u001b[0m\u001b[0;34m(\u001b[0m\u001b[0;34m)\u001b[0m\u001b[0;34m\u001b[0m\u001b[0m\n\u001b[0m\u001b[1;32m    387\u001b[0m             \u001b[0;32mif\u001b[0m \u001b[0mstatus\u001b[0m \u001b[0;34m!=\u001b[0m \u001b[0mCONTINUE\u001b[0m\u001b[0;34m:\u001b[0m\u001b[0;34m\u001b[0m\u001b[0m\n",
      "\u001b[0;32m/Users/anhnguyen/anaconda3/lib/python3.4/http/client.py\u001b[0m in \u001b[0;36m_read_status\u001b[0;34m(self)\u001b[0m\n\u001b[1;32m    355\u001b[0m             \u001b[0;31m# sending a valid response.\u001b[0m\u001b[0;34m\u001b[0m\u001b[0;34m\u001b[0m\u001b[0m\n\u001b[0;32m--> 356\u001b[0;31m             \u001b[0;32mraise\u001b[0m \u001b[0mBadStatusLine\u001b[0m\u001b[0;34m(\u001b[0m\u001b[0mline\u001b[0m\u001b[0;34m)\u001b[0m\u001b[0;34m\u001b[0m\u001b[0m\n\u001b[0m\u001b[1;32m    357\u001b[0m         \u001b[0;32mtry\u001b[0m\u001b[0;34m:\u001b[0m\u001b[0;34m\u001b[0m\u001b[0m\n",
      "\u001b[0;31mBadStatusLine\u001b[0m: ''",
      "\nDuring handling of the above exception, another exception occurred:\n",
      "\u001b[0;31mProtocolError\u001b[0m                             Traceback (most recent call last)",
      "\u001b[0;32m/Users/anhnguyen/anaconda3/lib/python3.4/site-packages/requests/adapters.py\u001b[0m in \u001b[0;36msend\u001b[0;34m(self, request, stream, timeout, verify, cert, proxies)\u001b[0m\n\u001b[1;32m    422\u001b[0m                     \u001b[0mretries\u001b[0m\u001b[0;34m=\u001b[0m\u001b[0mself\u001b[0m\u001b[0;34m.\u001b[0m\u001b[0mmax_retries\u001b[0m\u001b[0;34m,\u001b[0m\u001b[0;34m\u001b[0m\u001b[0m\n\u001b[0;32m--> 423\u001b[0;31m                     \u001b[0mtimeout\u001b[0m\u001b[0;34m=\u001b[0m\u001b[0mtimeout\u001b[0m\u001b[0;34m\u001b[0m\u001b[0m\n\u001b[0m\u001b[1;32m    424\u001b[0m                 )\n",
      "\u001b[0;32m/Users/anhnguyen/anaconda3/lib/python3.4/site-packages/requests/packages/urllib3/connectionpool.py\u001b[0m in \u001b[0;36murlopen\u001b[0;34m(self, method, url, body, headers, retries, redirect, assert_same_host, timeout, pool_timeout, release_conn, chunked, **response_kw)\u001b[0m\n\u001b[1;32m    639\u001b[0m             retries = retries.increment(method, url, error=e, _pool=self,\n\u001b[0;32m--> 640\u001b[0;31m                                         _stacktrace=sys.exc_info()[2])\n\u001b[0m\u001b[1;32m    641\u001b[0m             \u001b[0mretries\u001b[0m\u001b[0;34m.\u001b[0m\u001b[0msleep\u001b[0m\u001b[0;34m(\u001b[0m\u001b[0;34m)\u001b[0m\u001b[0;34m\u001b[0m\u001b[0m\n",
      "\u001b[0;32m/Users/anhnguyen/anaconda3/lib/python3.4/site-packages/requests/packages/urllib3/util/retry.py\u001b[0m in \u001b[0;36mincrement\u001b[0;34m(self, method, url, response, error, _pool, _stacktrace)\u001b[0m\n\u001b[1;32m    260\u001b[0m             \u001b[0;32mif\u001b[0m \u001b[0mread\u001b[0m \u001b[0;32mis\u001b[0m \u001b[0;32mFalse\u001b[0m\u001b[0;34m:\u001b[0m\u001b[0;34m\u001b[0m\u001b[0m\n\u001b[0;32m--> 261\u001b[0;31m                 \u001b[0;32mraise\u001b[0m \u001b[0msix\u001b[0m\u001b[0;34m.\u001b[0m\u001b[0mreraise\u001b[0m\u001b[0;34m(\u001b[0m\u001b[0mtype\u001b[0m\u001b[0;34m(\u001b[0m\u001b[0merror\u001b[0m\u001b[0;34m)\u001b[0m\u001b[0;34m,\u001b[0m \u001b[0merror\u001b[0m\u001b[0;34m,\u001b[0m \u001b[0m_stacktrace\u001b[0m\u001b[0;34m)\u001b[0m\u001b[0;34m\u001b[0m\u001b[0m\n\u001b[0m\u001b[1;32m    262\u001b[0m             \u001b[0;32melif\u001b[0m \u001b[0mread\u001b[0m \u001b[0;32mis\u001b[0m \u001b[0;32mnot\u001b[0m \u001b[0;32mNone\u001b[0m\u001b[0;34m:\u001b[0m\u001b[0;34m\u001b[0m\u001b[0m\n",
      "\u001b[0;32m/Users/anhnguyen/anaconda3/lib/python3.4/site-packages/requests/packages/urllib3/packages/six.py\u001b[0m in \u001b[0;36mreraise\u001b[0;34m(tp, value, tb)\u001b[0m\n\u001b[1;32m    684\u001b[0m         \u001b[0;32mif\u001b[0m \u001b[0mvalue\u001b[0m\u001b[0;34m.\u001b[0m\u001b[0m__traceback__\u001b[0m \u001b[0;32mis\u001b[0m \u001b[0;32mnot\u001b[0m \u001b[0mtb\u001b[0m\u001b[0;34m:\u001b[0m\u001b[0;34m\u001b[0m\u001b[0m\n\u001b[0;32m--> 685\u001b[0;31m             \u001b[0;32mraise\u001b[0m \u001b[0mvalue\u001b[0m\u001b[0;34m.\u001b[0m\u001b[0mwith_traceback\u001b[0m\u001b[0;34m(\u001b[0m\u001b[0mtb\u001b[0m\u001b[0;34m)\u001b[0m\u001b[0;34m\u001b[0m\u001b[0m\n\u001b[0m\u001b[1;32m    686\u001b[0m         \u001b[0;32mraise\u001b[0m \u001b[0mvalue\u001b[0m\u001b[0;34m\u001b[0m\u001b[0m\n",
      "\u001b[0;32m/Users/anhnguyen/anaconda3/lib/python3.4/site-packages/requests/packages/urllib3/connectionpool.py\u001b[0m in \u001b[0;36murlopen\u001b[0;34m(self, method, url, body, headers, retries, redirect, assert_same_host, timeout, pool_timeout, release_conn, chunked, **response_kw)\u001b[0m\n\u001b[1;32m    594\u001b[0m                                                   \u001b[0mbody\u001b[0m\u001b[0;34m=\u001b[0m\u001b[0mbody\u001b[0m\u001b[0;34m,\u001b[0m \u001b[0mheaders\u001b[0m\u001b[0;34m=\u001b[0m\u001b[0mheaders\u001b[0m\u001b[0;34m,\u001b[0m\u001b[0;34m\u001b[0m\u001b[0m\n\u001b[0;32m--> 595\u001b[0;31m                                                   chunked=chunked)\n\u001b[0m\u001b[1;32m    596\u001b[0m \u001b[0;34m\u001b[0m\u001b[0m\n",
      "\u001b[0;32m/Users/anhnguyen/anaconda3/lib/python3.4/site-packages/requests/packages/urllib3/connectionpool.py\u001b[0m in \u001b[0;36m_make_request\u001b[0;34m(self, conn, method, url, timeout, chunked, **httplib_request_kw)\u001b[0m\n\u001b[1;32m    392\u001b[0m                     \u001b[0;31m# otherwise it looks like a programming error was the cause.\u001b[0m\u001b[0;34m\u001b[0m\u001b[0;34m\u001b[0m\u001b[0m\n\u001b[0;32m--> 393\u001b[0;31m                     \u001b[0msix\u001b[0m\u001b[0;34m.\u001b[0m\u001b[0mraise_from\u001b[0m\u001b[0;34m(\u001b[0m\u001b[0me\u001b[0m\u001b[0;34m,\u001b[0m \u001b[0;32mNone\u001b[0m\u001b[0;34m)\u001b[0m\u001b[0;34m\u001b[0m\u001b[0m\n\u001b[0m\u001b[1;32m    394\u001b[0m         \u001b[0;32mexcept\u001b[0m \u001b[0;34m(\u001b[0m\u001b[0mSocketTimeout\u001b[0m\u001b[0;34m,\u001b[0m \u001b[0mBaseSSLError\u001b[0m\u001b[0;34m,\u001b[0m \u001b[0mSocketError\u001b[0m\u001b[0;34m)\u001b[0m \u001b[0;32mas\u001b[0m \u001b[0me\u001b[0m\u001b[0;34m:\u001b[0m\u001b[0;34m\u001b[0m\u001b[0m\n",
      "\u001b[0;32m/Users/anhnguyen/anaconda3/lib/python3.4/site-packages/requests/packages/urllib3/packages/six.py\u001b[0m in \u001b[0;36mraise_from\u001b[0;34m(value, from_value)\u001b[0m\n",
      "\u001b[0;32m/Users/anhnguyen/anaconda3/lib/python3.4/site-packages/requests/packages/urllib3/connectionpool.py\u001b[0m in \u001b[0;36m_make_request\u001b[0;34m(self, conn, method, url, timeout, chunked, **httplib_request_kw)\u001b[0m\n\u001b[1;32m    388\u001b[0m                 \u001b[0;32mtry\u001b[0m\u001b[0;34m:\u001b[0m\u001b[0;34m\u001b[0m\u001b[0m\n\u001b[0;32m--> 389\u001b[0;31m                     \u001b[0mhttplib_response\u001b[0m \u001b[0;34m=\u001b[0m \u001b[0mconn\u001b[0m\u001b[0;34m.\u001b[0m\u001b[0mgetresponse\u001b[0m\u001b[0;34m(\u001b[0m\u001b[0;34m)\u001b[0m\u001b[0;34m\u001b[0m\u001b[0m\n\u001b[0m\u001b[1;32m    390\u001b[0m                 \u001b[0;32mexcept\u001b[0m \u001b[0mException\u001b[0m \u001b[0;32mas\u001b[0m \u001b[0me\u001b[0m\u001b[0;34m:\u001b[0m\u001b[0;34m\u001b[0m\u001b[0m\n",
      "\u001b[0;32m/Users/anhnguyen/anaconda3/lib/python3.4/http/client.py\u001b[0m in \u001b[0;36mgetresponse\u001b[0;34m(self)\u001b[0m\n\u001b[1;32m   1226\u001b[0m         \u001b[0;32mtry\u001b[0m\u001b[0;34m:\u001b[0m\u001b[0;34m\u001b[0m\u001b[0m\n\u001b[0;32m-> 1227\u001b[0;31m             \u001b[0mresponse\u001b[0m\u001b[0;34m.\u001b[0m\u001b[0mbegin\u001b[0m\u001b[0;34m(\u001b[0m\u001b[0;34m)\u001b[0m\u001b[0;34m\u001b[0m\u001b[0m\n\u001b[0m\u001b[1;32m   1228\u001b[0m             \u001b[0;32massert\u001b[0m \u001b[0mresponse\u001b[0m\u001b[0;34m.\u001b[0m\u001b[0mwill_close\u001b[0m \u001b[0;34m!=\u001b[0m \u001b[0m_UNKNOWN\u001b[0m\u001b[0;34m\u001b[0m\u001b[0m\n",
      "\u001b[0;32m/Users/anhnguyen/anaconda3/lib/python3.4/http/client.py\u001b[0m in \u001b[0;36mbegin\u001b[0;34m(self)\u001b[0m\n\u001b[1;32m    385\u001b[0m         \u001b[0;32mwhile\u001b[0m \u001b[0;32mTrue\u001b[0m\u001b[0;34m:\u001b[0m\u001b[0;34m\u001b[0m\u001b[0m\n\u001b[0;32m--> 386\u001b[0;31m             \u001b[0mversion\u001b[0m\u001b[0;34m,\u001b[0m \u001b[0mstatus\u001b[0m\u001b[0;34m,\u001b[0m \u001b[0mreason\u001b[0m \u001b[0;34m=\u001b[0m \u001b[0mself\u001b[0m\u001b[0;34m.\u001b[0m\u001b[0m_read_status\u001b[0m\u001b[0;34m(\u001b[0m\u001b[0;34m)\u001b[0m\u001b[0;34m\u001b[0m\u001b[0m\n\u001b[0m\u001b[1;32m    387\u001b[0m             \u001b[0;32mif\u001b[0m \u001b[0mstatus\u001b[0m \u001b[0;34m!=\u001b[0m \u001b[0mCONTINUE\u001b[0m\u001b[0;34m:\u001b[0m\u001b[0;34m\u001b[0m\u001b[0m\n",
      "\u001b[0;32m/Users/anhnguyen/anaconda3/lib/python3.4/http/client.py\u001b[0m in \u001b[0;36m_read_status\u001b[0;34m(self)\u001b[0m\n\u001b[1;32m    355\u001b[0m             \u001b[0;31m# sending a valid response.\u001b[0m\u001b[0;34m\u001b[0m\u001b[0;34m\u001b[0m\u001b[0m\n\u001b[0;32m--> 356\u001b[0;31m             \u001b[0;32mraise\u001b[0m \u001b[0mBadStatusLine\u001b[0m\u001b[0;34m(\u001b[0m\u001b[0mline\u001b[0m\u001b[0;34m)\u001b[0m\u001b[0;34m\u001b[0m\u001b[0m\n\u001b[0m\u001b[1;32m    357\u001b[0m         \u001b[0;32mtry\u001b[0m\u001b[0;34m:\u001b[0m\u001b[0;34m\u001b[0m\u001b[0m\n",
      "\u001b[0;31mProtocolError\u001b[0m: ('Connection aborted.', BadStatusLine(\"''\",))",
      "\nDuring handling of the above exception, another exception occurred:\n",
      "\u001b[0;31mConnectionError\u001b[0m                           Traceback (most recent call last)",
      "\u001b[0;32m<ipython-input-14-cd5ab53aeb45>\u001b[0m in \u001b[0;36m<module>\u001b[0;34m()\u001b[0m\n\u001b[0;32m----> 1\u001b[0;31m \u001b[0mrun_master\u001b[0m\u001b[0;34m(\u001b[0m\u001b[0;34m)\u001b[0m\u001b[0;34m\u001b[0m\u001b[0m\n\u001b[0m",
      "\u001b[0;32m<ipython-input-13-8ce24db8f2cf>\u001b[0m in \u001b[0;36mrun_master\u001b[0;34m()\u001b[0m\n\u001b[1;32m     11\u001b[0m         \u001b[0mname\u001b[0m\u001b[0;34m,\u001b[0m \u001b[0mlink\u001b[0m \u001b[0;34m=\u001b[0m \u001b[0murl\u001b[0m\u001b[0;34m[\u001b[0m\u001b[0;36m0\u001b[0m\u001b[0;34m]\u001b[0m\u001b[0;34m,\u001b[0m \u001b[0murl\u001b[0m\u001b[0;34m[\u001b[0m\u001b[0;36m1\u001b[0m\u001b[0;34m]\u001b[0m\u001b[0;34m\u001b[0m\u001b[0m\n\u001b[1;32m     12\u001b[0m \u001b[0;31m#         link = 'https://www.polk.edu/lakeland-gateway-to-college-high-school/'\u001b[0m\u001b[0;34m\u001b[0m\u001b[0;34m\u001b[0m\u001b[0m\n\u001b[0;32m---> 13\u001b[0;31m         \u001b[0mlinks\u001b[0m\u001b[0;34m,\u001b[0m \u001b[0mparagraphs\u001b[0m \u001b[0;34m=\u001b[0m \u001b[0mparse_data\u001b[0m\u001b[0;34m(\u001b[0m\u001b[0mlink\u001b[0m\u001b[0;34m)\u001b[0m\u001b[0;34m\u001b[0m\u001b[0m\n\u001b[0m\u001b[1;32m     14\u001b[0m         \u001b[0mfinal_list\u001b[0m \u001b[0;34m=\u001b[0m \u001b[0mget_final_list\u001b[0m\u001b[0;34m(\u001b[0m\u001b[0mlinks\u001b[0m\u001b[0;34m)\u001b[0m\u001b[0;34m\u001b[0m\u001b[0m\n\u001b[1;32m     15\u001b[0m         \u001b[0;31m#create a dictionary to for us to store our relevant texts into into\u001b[0m\u001b[0;34m\u001b[0m\u001b[0;34m\u001b[0m\u001b[0m\n",
      "\u001b[0;32m<ipython-input-5-010f35e9ddc7>\u001b[0m in \u001b[0;36mparse_data\u001b[0;34m(url)\u001b[0m\n\u001b[1;32m      2\u001b[0m \u001b[0;31m# credits: parsing team\u001b[0m\u001b[0;34m\u001b[0m\u001b[0;34m\u001b[0m\u001b[0m\n\u001b[1;32m      3\u001b[0m \u001b[0;32mdef\u001b[0m \u001b[0mparse_data\u001b[0m\u001b[0;34m(\u001b[0m\u001b[0murl\u001b[0m\u001b[0;34m)\u001b[0m\u001b[0;34m:\u001b[0m\u001b[0;34m\u001b[0m\u001b[0m\n\u001b[0;32m----> 4\u001b[0;31m     \u001b[0mdata\u001b[0m  \u001b[0;34m=\u001b[0m \u001b[0mrequests\u001b[0m\u001b[0;34m.\u001b[0m\u001b[0mget\u001b[0m\u001b[0;34m(\u001b[0m\u001b[0murl\u001b[0m\u001b[0;34m)\u001b[0m\u001b[0;34m.\u001b[0m\u001b[0mtext\u001b[0m\u001b[0;34m\u001b[0m\u001b[0m\n\u001b[0m\u001b[1;32m      5\u001b[0m     \u001b[0msoup\u001b[0m \u001b[0;34m=\u001b[0m \u001b[0mBeautifulSoup\u001b[0m\u001b[0;34m(\u001b[0m\u001b[0mdata\u001b[0m\u001b[0;34m,\u001b[0m \u001b[0;34m\"lxml\"\u001b[0m\u001b[0;34m)\u001b[0m\u001b[0;34m\u001b[0m\u001b[0m\n\u001b[1;32m      6\u001b[0m     \u001b[0mhrefs\u001b[0m \u001b[0;34m=\u001b[0m \u001b[0msoup\u001b[0m\u001b[0;34m(\u001b[0m\u001b[0;34m'a'\u001b[0m\u001b[0;34m)\u001b[0m\u001b[0;34m\u001b[0m\u001b[0m\n",
      "\u001b[0;32m/Users/anhnguyen/anaconda3/lib/python3.4/site-packages/requests/api.py\u001b[0m in \u001b[0;36mget\u001b[0;34m(url, params, **kwargs)\u001b[0m\n\u001b[1;32m     68\u001b[0m \u001b[0;34m\u001b[0m\u001b[0m\n\u001b[1;32m     69\u001b[0m     \u001b[0mkwargs\u001b[0m\u001b[0;34m.\u001b[0m\u001b[0msetdefault\u001b[0m\u001b[0;34m(\u001b[0m\u001b[0;34m'allow_redirects'\u001b[0m\u001b[0;34m,\u001b[0m \u001b[0;32mTrue\u001b[0m\u001b[0;34m)\u001b[0m\u001b[0;34m\u001b[0m\u001b[0m\n\u001b[0;32m---> 70\u001b[0;31m     \u001b[0;32mreturn\u001b[0m \u001b[0mrequest\u001b[0m\u001b[0;34m(\u001b[0m\u001b[0;34m'get'\u001b[0m\u001b[0;34m,\u001b[0m \u001b[0murl\u001b[0m\u001b[0;34m,\u001b[0m \u001b[0mparams\u001b[0m\u001b[0;34m=\u001b[0m\u001b[0mparams\u001b[0m\u001b[0;34m,\u001b[0m \u001b[0;34m**\u001b[0m\u001b[0mkwargs\u001b[0m\u001b[0;34m)\u001b[0m\u001b[0;34m\u001b[0m\u001b[0m\n\u001b[0m\u001b[1;32m     71\u001b[0m \u001b[0;34m\u001b[0m\u001b[0m\n\u001b[1;32m     72\u001b[0m \u001b[0;34m\u001b[0m\u001b[0m\n",
      "\u001b[0;32m/Users/anhnguyen/anaconda3/lib/python3.4/site-packages/requests/api.py\u001b[0m in \u001b[0;36mrequest\u001b[0;34m(method, url, **kwargs)\u001b[0m\n\u001b[1;32m     54\u001b[0m     \u001b[0;31m# cases, and look like a memory leak in others.\u001b[0m\u001b[0;34m\u001b[0m\u001b[0;34m\u001b[0m\u001b[0m\n\u001b[1;32m     55\u001b[0m     \u001b[0;32mwith\u001b[0m \u001b[0msessions\u001b[0m\u001b[0;34m.\u001b[0m\u001b[0mSession\u001b[0m\u001b[0;34m(\u001b[0m\u001b[0;34m)\u001b[0m \u001b[0;32mas\u001b[0m \u001b[0msession\u001b[0m\u001b[0;34m:\u001b[0m\u001b[0;34m\u001b[0m\u001b[0m\n\u001b[0;32m---> 56\u001b[0;31m         \u001b[0;32mreturn\u001b[0m \u001b[0msession\u001b[0m\u001b[0;34m.\u001b[0m\u001b[0mrequest\u001b[0m\u001b[0;34m(\u001b[0m\u001b[0mmethod\u001b[0m\u001b[0;34m=\u001b[0m\u001b[0mmethod\u001b[0m\u001b[0;34m,\u001b[0m \u001b[0murl\u001b[0m\u001b[0;34m=\u001b[0m\u001b[0murl\u001b[0m\u001b[0;34m,\u001b[0m \u001b[0;34m**\u001b[0m\u001b[0mkwargs\u001b[0m\u001b[0;34m)\u001b[0m\u001b[0;34m\u001b[0m\u001b[0m\n\u001b[0m\u001b[1;32m     57\u001b[0m \u001b[0;34m\u001b[0m\u001b[0m\n\u001b[1;32m     58\u001b[0m \u001b[0;34m\u001b[0m\u001b[0m\n",
      "\u001b[0;32m/Users/anhnguyen/anaconda3/lib/python3.4/site-packages/requests/sessions.py\u001b[0m in \u001b[0;36mrequest\u001b[0;34m(self, method, url, params, data, headers, cookies, files, auth, timeout, allow_redirects, proxies, hooks, stream, verify, cert, json)\u001b[0m\n\u001b[1;32m    473\u001b[0m         }\n\u001b[1;32m    474\u001b[0m         \u001b[0msend_kwargs\u001b[0m\u001b[0;34m.\u001b[0m\u001b[0mupdate\u001b[0m\u001b[0;34m(\u001b[0m\u001b[0msettings\u001b[0m\u001b[0;34m)\u001b[0m\u001b[0;34m\u001b[0m\u001b[0m\n\u001b[0;32m--> 475\u001b[0;31m         \u001b[0mresp\u001b[0m \u001b[0;34m=\u001b[0m \u001b[0mself\u001b[0m\u001b[0;34m.\u001b[0m\u001b[0msend\u001b[0m\u001b[0;34m(\u001b[0m\u001b[0mprep\u001b[0m\u001b[0;34m,\u001b[0m \u001b[0;34m**\u001b[0m\u001b[0msend_kwargs\u001b[0m\u001b[0;34m)\u001b[0m\u001b[0;34m\u001b[0m\u001b[0m\n\u001b[0m\u001b[1;32m    476\u001b[0m \u001b[0;34m\u001b[0m\u001b[0m\n\u001b[1;32m    477\u001b[0m         \u001b[0;32mreturn\u001b[0m \u001b[0mresp\u001b[0m\u001b[0;34m\u001b[0m\u001b[0m\n",
      "\u001b[0;32m/Users/anhnguyen/anaconda3/lib/python3.4/site-packages/requests/sessions.py\u001b[0m in \u001b[0;36msend\u001b[0;34m(self, request, **kwargs)\u001b[0m\n\u001b[1;32m    594\u001b[0m \u001b[0;34m\u001b[0m\u001b[0m\n\u001b[1;32m    595\u001b[0m         \u001b[0;31m# Send the request\u001b[0m\u001b[0;34m\u001b[0m\u001b[0;34m\u001b[0m\u001b[0m\n\u001b[0;32m--> 596\u001b[0;31m         \u001b[0mr\u001b[0m \u001b[0;34m=\u001b[0m \u001b[0madapter\u001b[0m\u001b[0;34m.\u001b[0m\u001b[0msend\u001b[0m\u001b[0;34m(\u001b[0m\u001b[0mrequest\u001b[0m\u001b[0;34m,\u001b[0m \u001b[0;34m**\u001b[0m\u001b[0mkwargs\u001b[0m\u001b[0;34m)\u001b[0m\u001b[0;34m\u001b[0m\u001b[0m\n\u001b[0m\u001b[1;32m    597\u001b[0m \u001b[0;34m\u001b[0m\u001b[0m\n\u001b[1;32m    598\u001b[0m         \u001b[0;31m# Total elapsed time of the request (approximately)\u001b[0m\u001b[0;34m\u001b[0m\u001b[0;34m\u001b[0m\u001b[0m\n",
      "\u001b[0;32m/Users/anhnguyen/anaconda3/lib/python3.4/site-packages/requests/adapters.py\u001b[0m in \u001b[0;36msend\u001b[0;34m(self, request, stream, timeout, verify, cert, proxies)\u001b[0m\n\u001b[1;32m    471\u001b[0m \u001b[0;34m\u001b[0m\u001b[0m\n\u001b[1;32m    472\u001b[0m         \u001b[0;32mexcept\u001b[0m \u001b[0;34m(\u001b[0m\u001b[0mProtocolError\u001b[0m\u001b[0;34m,\u001b[0m \u001b[0msocket\u001b[0m\u001b[0;34m.\u001b[0m\u001b[0merror\u001b[0m\u001b[0;34m)\u001b[0m \u001b[0;32mas\u001b[0m \u001b[0merr\u001b[0m\u001b[0;34m:\u001b[0m\u001b[0;34m\u001b[0m\u001b[0m\n\u001b[0;32m--> 473\u001b[0;31m             \u001b[0;32mraise\u001b[0m \u001b[0mConnectionError\u001b[0m\u001b[0;34m(\u001b[0m\u001b[0merr\u001b[0m\u001b[0;34m,\u001b[0m \u001b[0mrequest\u001b[0m\u001b[0;34m=\u001b[0m\u001b[0mrequest\u001b[0m\u001b[0;34m)\u001b[0m\u001b[0;34m\u001b[0m\u001b[0m\n\u001b[0m\u001b[1;32m    474\u001b[0m \u001b[0;34m\u001b[0m\u001b[0m\n\u001b[1;32m    475\u001b[0m         \u001b[0;32mexcept\u001b[0m \u001b[0mMaxRetryError\u001b[0m \u001b[0;32mas\u001b[0m \u001b[0me\u001b[0m\u001b[0;34m:\u001b[0m\u001b[0;34m\u001b[0m\u001b[0m\n",
      "\u001b[0;31mConnectionError\u001b[0m: ('Connection aborted.', BadStatusLine(\"''\",))"
     ]
    }
   ],
   "source": [
    "run_master()"
   ]
  },
  {
   "cell_type": "code",
   "execution_count": null,
   "metadata": {
    "collapsed": true
   },
   "outputs": [],
   "source": [
    "#want the obj back\n",
    "def get_obj_back(file):\n",
    "    with open(file,'rb') as f:\n",
    "        var = pickle.load(f)\n",
    "    return var"
   ]
  }
 ],
 "metadata": {
  "anaconda-cloud": {},
  "kernelspec": {
   "display_name": "Python [default]",
   "language": "python",
   "name": "python3"
  },
  "language_info": {
   "codemirror_mode": {
    "name": "ipython",
    "version": 3
   },
   "file_extension": ".py",
   "mimetype": "text/x-python",
   "name": "python",
   "nbconvert_exporter": "python",
   "pygments_lexer": "ipython3",
   "version": "3.4.5"
  }
 },
 "nbformat": 4,
 "nbformat_minor": 1
}
