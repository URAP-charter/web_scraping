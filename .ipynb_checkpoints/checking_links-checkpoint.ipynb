{
 "cells": [
  {
   "cell_type": "markdown",
   "metadata": {},
   "source": [
    "### Invalid URL and URLLIP"
   ]
  },
  {
   "cell_type": "code",
   "execution_count": 10,
   "metadata": {
    "collapsed": false
   },
   "outputs": [],
   "source": [
    "# import necessary libraries\n",
    "import os, csv\n",
    "import shutil\n",
    "import urllib\n",
    "from urllib.request import urlopen\n",
    "from socket import error as SocketError\n",
    "import errno\n",
    "import pandas as pd\n",
    "import httplib2\n",
    "from requests.auth import HTTPBasicAuth\n",
    "import requests\n",
    "from requests.auth import HTTPDigestAuth"
   ]
  },
  {
   "cell_type": "code",
   "execution_count": 2,
   "metadata": {
    "collapsed": true
   },
   "outputs": [],
   "source": [
    "#setting directories\n",
    "micro_sample_cvs = \"/Users/anhnguyen/Desktop/research/scraping_Python/excel_files/micro-sample_MANUAL_Mar17.xlsx\"\n",
    "valid = \"/Users/anhnguyen/Desktop/research/scraping_Python/text_files/valid_march.txt\"\n",
    "invalid = \"/Users/anhnguyen/Desktop/research/scraping_Python/text_files/invalid_march.txt\""
   ]
  },
  {
   "cell_type": "code",
   "execution_count": 3,
   "metadata": {
    "collapsed": false
   },
   "outputs": [
    {
     "name": "stdout",
     "output_type": "stream",
     "text": [
      "0                 https://www.richland2.org/charterhigh/\n",
      "1      https://www.polk.edu/lakeland-gateway-to-colle...\n",
      "2      https://www.nhaschools.com/schools/rivercity/P...\n",
      "3      https://www.nhaschools.com/schools/detroitente...\n",
      "4      https://www.lys.org/services/lighthouse-commun...\n",
      "5                            https://westlakecharter.com\n",
      "6             https://vangoghcs-lausd-ca.schoolloop.com/\n",
      "7       https://summitacademies.org/schools/dayton-high/\n",
      "8                  https://cms.springbranchisd.com/wais/\n",
      "9                               https://cityacademy.org/\n",
      "10                https://byrnes-ecsd-fl.schoolloop.com/\n",
      "11                             https://acaciamiddle.org/\n",
      "12     http://www2.milwaukee.k12.wi.us/whittier/whitt...\n",
      "13                     http://www.zoelearningcenters.com\n",
      "14                                 http://www.ywlcs.org/\n",
      "15                                  http://www.yuba.net/\n",
      "16                                 http://www.ysacs.org/\n",
      "17                                http://www.wpaces.org/\n",
      "18                  http://www.woodcharter.com/Granbury/\n",
      "19                    http://www.willowcreekcharter.com/\n",
      "20                      http://www.whitepineacademy.com/\n",
      "21               http://www.westridgeacademycharter.com/\n",
      "22                   http://www.wattslearningcenter.org/\n",
      "23                   http://www.waterfordmontessori.org/\n",
      "24                                  http://www.vlcs.org/\n",
      "25                   http://www.valleycharterschool.org/\n",
      "26                            http://www.valcharter.org/\n",
      "27                             http://www.urbanprep.org/\n",
      "28              http://www.tworiverscommunityschool.net/\n",
      "29                         http://www.twodimensions.org/\n",
      "                             ...                        \n",
      "270                               http://hsshouston.org/\n",
      "271                       http://highlandfreeschool.org/\n",
      "272        http://greendot.finalsite.com/page.cfm?p=3860\n",
      "273                       http://gowan.craneschools.org/\n",
      "274                                http://girlsprep.org/\n",
      "275                  http://gillinghamcharterschool.org/\n",
      "276          http://frederickclassicalcharterschool.org/\n",
      "277    http://firstlineschools.org/joseph-s-clark-pre...\n",
      "278    http://firstlineschools.org/arthur-ashe-charte...\n",
      "279           http://excellenceboys.uncommonschools.org/\n",
      "280                         http://evolutionacademy.org/\n",
      "281                            http://enlaceacademy.org/\n",
      "282                 http://efcps.org/our-schools/ascend/\n",
      "283                      http://dphms.democracyprep.org/\n",
      "284                            http://discoveryprep.org/\n",
      "285                            http://detcomschools.org/\n",
      "286                                   http://dccchs.org/\n",
      "287                             http://crmontessori.org/\n",
      "288                             http://chechs.ccisd.net/\n",
      "289               http://chandler.legacytraditional.org/\n",
      "290                      http://cc.franklin-academy.org/\n",
      "291                            http://bakercharters.org/\n",
      "292    http://aspirepublicschools.org/schools/regions...\n",
      "293    http://aspirepublicschools.org/schools/regions...\n",
      "294                                  http://artsk12.org/\n",
      "295                  http://artsacademyatscottsdale.com/\n",
      "296    http://arthuracademy.org/woodburn/woodburn-art...\n",
      "297                       http://arroyo.wesdschools.org/\n",
      "298                         http://aeetoledo.weebly.com/\n",
      "299                          http://compasscharters.org/\n",
      "Name: URL, dtype: object\n"
     ]
    }
   ],
   "source": [
    "df = pd.read_excel(micro_sample_cvs)\n",
    "school_name = df[\"School name\"]\n",
    "urls = df[\"URL\"]\n",
    "print(urls)"
   ]
  },
  {
   "cell_type": "markdown",
   "metadata": {},
   "source": [
    "### Helper Functions"
   ]
  },
  {
   "cell_type": "code",
   "execution_count": 11,
   "metadata": {
    "collapsed": false
   },
   "outputs": [],
   "source": [
    "def check(url):\n",
    "    \"\"\" Helper function, check if url is a valid list\"\"\"\n",
    "    try:\n",
    "        urlopen(url)\n",
    "        \n",
    "    except urllib.error.URLError:\n",
    "        print(url + \" :URLError\")\n",
    "        return False\n",
    "    except urllib.error.HTTPError:\n",
    "        print(url +' :HTTPError')\n",
    "        return False\n",
    "    except SocketError:\n",
    "        print(url + 'SocketError')\n",
    "        return False\n",
    "    return True\n",
    "\n",
    "def check_url(url):\n",
    "    code = \"[no code collected]\"\n",
    "    try:\n",
    "        r = requests.get(url, auth=HTTPDigestAuth('user', 'pass'), headers= {'User-Agent':\"Mozilla/5.0 (Macintosh; Intel Mac OS X 10_11_5) AppleWebKit/537.36 (KHTML, like Gecko) Chrome/56.0.2924.87 Safari/537.36\"})\n",
    "        code = r.status_code\n",
    "        if code < 400:\n",
    "            return True   \n",
    "    except:\n",
    "        pass\n",
    "    print(url +\" ---Error code: \" + str( code))\n",
    "    return False    \n",
    "\n",
    "# just write str to file\n",
    "def write_file(str, file_name):\n",
    "    with open(file_name, \"a\") as text_file:\n",
    "        text_file.write(str)\n",
    "def reset_text_file(file_name):\n",
    "    if os.path.exists(file_name):\n",
    "            with open(file_name, \"w\") as text_file:\n",
    "                text_file.write(\"\")\n",
    "                \n",
    "def count_valid_links(list_of_links, valid_file, invalid_file):\n",
    "    count_success, count_fail = 0, 0\n",
    "    valid, invalid = '', ''\n",
    "    for l in list_of_links:\n",
    "        if check_url(l):\n",
    "            valid += l + '\\n'\n",
    "            count_success +=1\n",
    "        else:\n",
    "            invalid += l + '\\n'\n",
    "            count_fail += 1\n",
    "    write_file(valid, valid_file)\n",
    "    write_file(invalid, invalid_file)\n",
    "    return count_success, count_fail"
   ]
  },
  {
   "cell_type": "code",
   "execution_count": 12,
   "metadata": {
    "collapsed": false
   },
   "outputs": [
    {
     "name": "stdout",
     "output_type": "stream",
     "text": [
      "http://www.pasadenarosebud.com/ ---Error code: [no code collected]\n",
      "http://www.mlacademy.org/#!contact-us/c2q4 ---Error code: 404\n",
      "http://www.materacademy.com/schools/ ---Error code: 404\n",
      "http://www.k12northstar.org/starofthenorth/ ---Error code: 404\n",
      "http://www.k12northstar.org/chinook/ ---Error code: 404\n",
      "http://www.jeffersoncommunityschool.org/ ---Error code: 403\n",
      "http://www.edvantages.com/ ---Error code: [no code collected]\n",
      "http://www.dcprep.org/Benning_Elementary_Campus/ ---Error code: 404\n",
      "http://www.clevelandta.org/school/oak-leadership-institute/ ---Error code: 403\n",
      "http://www.arcsj.org/communitycampus.html/ ---Error code: 404\n",
      "http://www.academiadeestrellas.org/ ---Error code: [no code collected]\n",
      "http://ideacharterschool.com/ ---Error code: [no code collected]\n",
      "http://aspirepublicschools.org/schools/regions/california-schools/aspire-vanguard-college-preparatory-academy/ ---Error code: 404\n",
      "http://aspirepublicschools.org/schools/regions/california-schools/aspire-eres-academy/ ---Error code: 404\n",
      "http://arthuracademy.org/woodburn/woodburn-arthur-academy.html/ ---Error code: 404\n"
     ]
    },
    {
     "data": {
      "text/plain": [
       "(285, 15)"
      ]
     },
     "execution_count": 12,
     "metadata": {},
     "output_type": "execute_result"
    }
   ],
   "source": [
    "reset_text_file(invalid)\n",
    "reset_text_file(valid)\n",
    "count_valid_links(urls, valid, invalid)"
   ]
  },
  {
   "cell_type": "code",
   "execution_count": null,
   "metadata": {
    "collapsed": true
   },
   "outputs": [],
   "source": []
  },
  {
   "cell_type": "code",
   "execution_count": 6,
   "metadata": {
    "collapsed": true
   },
   "outputs": [],
   "source": []
  },
  {
   "cell_type": "code",
   "execution_count": null,
   "metadata": {
    "collapsed": true
   },
   "outputs": [],
   "source": []
  }
 ],
 "metadata": {
  "anaconda-cloud": {},
  "kernelspec": {
   "display_name": "Python [default]",
   "language": "python",
   "name": "python3"
  },
  "language_info": {
   "codemirror_mode": {
    "name": "ipython",
    "version": 3
   },
   "file_extension": ".py",
   "mimetype": "text/x-python",
   "name": "python",
   "nbconvert_exporter": "python",
   "pygments_lexer": "ipython3",
   "version": "3.4.5"
  }
 },
 "nbformat": 4,
 "nbformat_minor": 1
}
