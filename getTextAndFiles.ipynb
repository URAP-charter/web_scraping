{
 "cells": [
  {
   "cell_type": "code",
   "execution_count": 34,
   "metadata": {
    "collapsed": false
   },
   "outputs": [],
   "source": [
    "# import necessary libraries\n",
    "from bs4 import BeautifulSoup\n",
    "import re\n",
    "import os, csv\n",
    "import shutil\n",
    "import urllib\n",
    "from urllib.request import urlopen\n",
    "from socket import error as SocketError\n",
    "import errno\n",
    "import pickle\n",
    "import pandas as pd\n",
    "import httplib2, requests, contextlib\n",
    "from urllib.parse import urljoin, urlparse\n",
    "from requests.auth import HTTPBasicAuth, HTTPDigestAuth\n",
    "from os.path import splitext"
   ]
  },
  {
   "cell_type": "code",
   "execution_count": 11,
   "metadata": {
    "collapsed": true
   },
   "outputs": [],
   "source": [
    "#TODO: csv file here\n",
    "micro_sample_cvs = \"micro-sample_MANUAL_Apr17.xlsx\"\n"
   ]
  },
  {
   "cell_type": "code",
   "execution_count": 4,
   "metadata": {
    "collapsed": true
   },
   "outputs": [],
   "source": [
    "def write_file(str, file_name):\n",
    "    \"\"\"This function writes a string str to a given file name\"\"\"\n",
    "    with open(file_name, \"a\") as text_file:\n",
    "        text_file.write(str)\n",
    "def save_json(file, school):\n",
    "    with open(file, 'wb') as outfile:\n",
    "#         json.dump(school, outfile)\n",
    "        pickle.dump(school, outfile)\n",
    "#want the obj back\n",
    "def get_obj_back(file):\n",
    "    with open(file,'rb') as f:\n",
    "        var = pickle.load(f)\n",
    "    return var"
   ]
  },
  {
   "cell_type": "code",
   "execution_count": 4,
   "metadata": {
    "collapsed": true
   },
   "outputs": [],
   "source": [
    "def check(url):\n",
    "    \"\"\" Helper function, check if url is a valid list <- our backup plan\n",
    "    This functions helps to check the url that has service unavailable issues\n",
    "    Since status code fails to check this.\"\"\"\n",
    "    \n",
    "    try:\n",
    "        urlopen(url)\n",
    "        \n",
    "    except urllib.error.URLError:\n",
    "        print(url + \" :URLError\")\n",
    "        return False\n",
    "    except urllib.error.HTTPError:\n",
    "        print(url +' :HTTPError')\n",
    "        return False\n",
    "    except SocketError:\n",
    "        print(url + 'SocketError')\n",
    "        return False\n",
    "    return True\n",
    "\n",
    "def check_url(url):\n",
    "    \"\"\"This functions uses the status code to determine if the link is valid. This resolves\n",
    "    the links that redirects and most cases of authentication problems\"\"\"\n",
    "    code = \"[no code collected]\"\n",
    "    if url == \"\":\n",
    "        return False\n",
    "    try:\n",
    "        r = requests.get(url, auth=HTTPDigestAuth('user', 'pass'), headers= {'User-Agent':\"Mozilla/5.0 (Macintosh; Intel Mac OS X 10_11_5) AppleWebKit/537.36 (KHTML, like Gecko) Chrome/56.0.2924.87 Safari/537.36\"})\n",
    "        code = r.status_code\n",
    "        #backup plan for service unavailable issues\n",
    "        if code == 503:\n",
    "            return check(url)\n",
    "        if code < 400:\n",
    "            return True   \n",
    "    except:\n",
    "        pass\n",
    "    print(\"Encounter an invalid link: \" + str(url) +\" ---Error code: \" + str(code))\n",
    "    return False    \n"
   ]
  },
  {
   "cell_type": "code",
   "execution_count": null,
   "metadata": {
    "collapsed": false
   },
   "outputs": [],
   "source": []
  },
  {
   "cell_type": "code",
   "execution_count": 12,
   "metadata": {
    "collapsed": true
   },
   "outputs": [],
   "source": [
    "df = pd.read_excel(micro_sample_cvs)\n",
    "school_urls = df[\"URL\"]\n",
    "school_names = df[\"School name\"]"
   ]
  },
  {
   "cell_type": "markdown",
   "metadata": {},
   "source": [
    "### Get all the links of a websites"
   ]
  },
  {
   "cell_type": "code",
   "execution_count": 6,
   "metadata": {
    "collapsed": false
   },
   "outputs": [],
   "source": [
    "def get_children_links(url_parent, hostname, visited, depth):\n",
    "    \"\"\"This function recursively gets the children links of a given links\"\"\"\n",
    "    #we have gone through enough levels or visited this link already \n",
    "    if depth == 0 or url_parent in visited or not check_url(url_parent):\n",
    "        return set()\n",
    "    \n",
    "    #get the html page\n",
    "    #parse into a BS object\n",
    "    html_page = requests.get(url_parent, auth=HTTPDigestAuth('user', 'pass'), headers= {'User-Agent':\"Mozilla/5.0 (Macintosh; Intel Mac OS X 10_11_5) AppleWebKit/537.36 (KHTML, like Gecko) Chrome/56.0.2924.87 Safari/537.36\"})\n",
    "    soup = BeautifulSoup(html_page.text)\n",
    "\n",
    "    #we visited url_parent, updated into the set\n",
    "    visited.add(url_parent)\n",
    "    \n",
    "    #now checking its children\n",
    "    for link in soup.findAll('a'):\n",
    "        #running recursively in a try-except block to prevent broken links break the code\n",
    "        try:\n",
    "            pattern = re.compile(\"((http|ftp)s?://.*?)\")\n",
    "            current_link = link.get('href')\n",
    "#             print(current_link)\n",
    "            if not pattern.match(current_link):\n",
    "                current_link = urljoin(url_parent, current_link)\n",
    "            \n",
    "            #check if the link is within the domain (hostname)\n",
    "            if hostname in current_link:\n",
    "#                 print(current_link)\n",
    "                #combine results from its children's links\n",
    "                get_children_links(current_link, hostname, visited, depth -1)\n",
    "        except:\n",
    "            pass\n",
    "    return visited\n",
    "#     print(count)\n",
    "\n",
    "def getLinks(url, depth):\n",
    "    text = set()\n",
    "    hostname = urlparse(url).hostname\n",
    "    return get_children_links(url, hostname, text, depth)\n",
    "#delete "
   ]
  },
  {
   "cell_type": "markdown",
   "metadata": {},
   "source": [
    "### Testing"
   ]
  },
  {
   "cell_type": "code",
   "execution_count": 10,
   "metadata": {
    "collapsed": false
   },
   "outputs": [
    {
     "name": "stdout",
     "output_type": "stream",
     "text": [
      "Encounter an invalid link: https://www.richland2.org/~ ---Error code: 404\n",
      "Encounter an invalid link: https://www.richland2.org/~ ---Error code: 404\n",
      "Encounter an invalid link: https://www.richland2.org/~ ---Error code: 404\n",
      "Encounter an invalid link: https://www.richland2.org/~ ---Error code: 404\n",
      "Encounter an invalid link: https://www.richland2.org/~ ---Error code: 404\n",
      "Encounter an invalid link: https://www.richland2.org/~ ---Error code: 404\n",
      "Encounter an invalid link: https://www.richland2.org/~ ---Error code: 404\n",
      "Encounter an invalid link: https://www.richland2.org/~ ---Error code: 404\n",
      "Encounter an invalid link: https://www.richland2.org/~ ---Error code: 404\n",
      "Encounter an invalid link: https://www.richland2.org/~ ---Error code: 404\n",
      "Runing test\n",
      "Here are all the links from: https://www.richland2.org/charterhigh/\n",
      "https://www.richland2.org/CharterHigh/About-Our-School/Calendar\n",
      "https://www.richland2.org/CharterHigh/School-Information/School-Board\n",
      "https://www.richland2.org/CharterHigh/\n",
      "https://www.richland2.org/CharterHigh/Careers\n",
      "https://www.richland2.org/CharterHigh/About-Us\n",
      "https://www.richland2.org/CharterHigh/School-Information\n",
      "https://www.richland2.org/CharterHigh/School-Information/Directions\n",
      "https://www.richland2.org/charterhigh/\n",
      "https://www.richland2.org/CharterHigh/News\n",
      "https://www.richland2.org/CharterHigh/School-Information/Graduation-2017\n",
      "https://www.richland2.org/charterhigh/news\n",
      "https://www.richland2.org/CharterHigh/School-Information/Frequently-Asked-Questions\n",
      "https://www.richland2.org/CharterHigh/Student-Registration\n",
      "https://www.richland2.org/CharterHigh/Contact-Us\n",
      "https://www.richland2.org/CharterHigh/News/We-re-Hiring-a-Principal\n",
      "https://www.richland2.org/CharterHigh/news\n",
      "https://www.richland2.org/CharterHigh/School-Information/Calendar\n",
      "https://www.richland2.org/CharterHigh/School-Information/School-Improvement-Council\n",
      "https://www.richland2.org/CharterHigh/News/Welcome-to-Our-New-Website!\n",
      "https://www.richland2.org/CharterHigh/School-Information/Lab-Hours\n",
      "https://www.richland2.org/charterhigh/About-Our-School/Calendar\n",
      "https://www.richland2.org\n",
      "https://www.richland2.org/accessibility.aspx\n",
      "https://www.richland2.org/CharterHigh/Special-Pages/Site-Translations\n",
      "There are 24 of them\n"
     ]
    }
   ],
   "source": [
    "# test on 1 url\n",
    "urls = getLinks(\"https://www.richland2.org/charterhigh/\", 5)\n",
    "count = 0\n",
    "print(\"Runing test\")\n",
    "print(\"Here are all the links from: \" + \"https://www.richland2.org/charterhigh/\" )\n",
    "for e in urls:\n",
    "    count += 1\n",
    "    print(e)\n",
    "print(\"There are \" + str(count)+ \" of them\")\n"
   ]
  },
  {
   "cell_type": "markdown",
   "metadata": {},
   "source": [
    "### Now run this method on 300 sites, save as dictionary and store it as a JSON object"
   ]
  },
  {
   "cell_type": "code",
   "execution_count": null,
   "metadata": {
    "collapsed": false
   },
   "outputs": [
    {
     "name": "stdout",
     "output_type": "stream",
     "text": [
      "RICHLAND TWO CHARTER HIGH\n",
      "Encounter an invalid link: https://www.richland2.org/~ ---Error code: 404\n",
      "Encounter an invalid link: https://www.richland2.org/~ ---Error code: 404\n",
      "Encounter an invalid link: https://www.richland2.org/~ ---Error code: 404\n",
      "Encounter an invalid link: https://www.richland2.org/~ ---Error code: 404\n",
      "Encounter an invalid link: https://www.richland2.org/~ ---Error code: 404\n",
      "Encounter an invalid link: https://www.richland2.org/~ ---Error code: 404\n",
      "Encounter an invalid link: https://www.richland2.org/~ ---Error code: 404\n",
      "Encounter an invalid link: https://www.richland2.org/~ ---Error code: 404\n",
      "POLK STATE COLLEGE COLLEGIATE HIGH SCHOOL\n"
     ]
    }
   ],
   "source": [
    "schools = dict()\n",
    "cap = len(school_names)\n",
    "# cap = 2\n",
    "for i in range(cap):\n",
    "    link, name = school_urls[i], school_names[i]\n",
    "    #sanity check make sure all links are valid\n",
    "    if not check_url(link):\n",
    "        print(\"Hey! \" + name + \" doesnt have a valid link! \" + link)\n",
    "    print(school_names[i])\n",
    "    #saving school names as keys and list of links as values\n",
    "    schools.update({name: list(getLinks(link, 4))})\n",
    "    "
   ]
  },
  {
   "cell_type": "code",
   "execution_count": 8,
   "metadata": {
    "collapsed": true
   },
   "outputs": [],
   "source": [
    "save_json(\"list_of_links\", schools)"
   ]
  },
  {
   "cell_type": "code",
   "execution_count": 6,
   "metadata": {
    "collapsed": false
   },
   "outputs": [
    {
     "name": "stdout",
     "output_type": "stream",
     "text": [
      "RICHLAND TWO CHARTER HIGH has 24\n",
      "['https://www.richland2.org/accessibility.aspx', 'https://www.richland2.org/CharterHigh/About-Us', 'https://www.richland2.org/CharterHigh/School-Information/Directions', 'https://www.richland2.org/CharterHigh/news', 'https://www.richland2.org', 'https://www.richland2.org/CharterHigh/Careers', 'https://www.richland2.org/CharterHigh/', 'https://www.richland2.org/CharterHigh/School-Information/Graduation-2017', 'https://www.richland2.org/CharterHigh/About-Our-School/Calendar', 'https://www.richland2.org/charterhigh/news', 'https://www.richland2.org/charterhigh/About-Our-School/Calendar', 'https://www.richland2.org/CharterHigh/School-Information/Lab-Hours', 'https://www.richland2.org/CharterHigh/News/We-re-Hiring-a-Principal', 'https://www.richland2.org/CharterHigh/School-Information', 'https://www.richland2.org/CharterHigh/Special-Pages/Site-Translations', 'https://www.richland2.org/CharterHigh/Student-Registration', 'https://www.richland2.org/CharterHigh/Contact-Us', 'https://www.richland2.org/CharterHigh/School-Information/Calendar', 'https://www.richland2.org/charterhigh/', 'https://www.richland2.org/CharterHigh/School-Information/Frequently-Asked-Questions', 'https://www.richland2.org/CharterHigh/School-Information/School-Improvement-Council', 'https://www.richland2.org/CharterHigh/News/Welcome-to-Our-New-Website!', 'https://www.richland2.org/CharterHigh/News', 'https://www.richland2.org/CharterHigh/School-Information/School-Board']\n",
      "POLK STATE COLLEGE COLLEGIATE HIGH SCHOOL has 51\n",
      "['https://www.polk.edu/community/', 'https://www.polk.edu/people/department/lakeland-gateway-to-college-high-school/', 'https://www.polk.edu/lakeland-gateway-to-college-high-school/', 'https://www.polk.edu/equity', 'https://www.polk.edu/', 'https://www.polk.edu/news/father-bullying-victim-implores-polk-state-students-upstanders-remember-loved-beyond-belief/', 'https://www.polk.edu/lakeland-gateway-to-college-high-school/guidance/', 'https://www.polk.edu/news/polks-top-grads-gateway-salutatorian-found-academic-footing-gained-confidence/', 'https://www.polk.edu/lake-wales/', 'https://www.polk.edu/bartow/', 'https://www.polk.edu/sitemap/', 'https://www.polk.edu/lakeland-gateway-to-college-high-school/registration-information-washington-dc/', 'https://www.polk.edu/about/', 'https://www.polk.edu/lakeland-gateway-to-college-high-school/admission-information/', 'https://www.polk.edu/news/in/lakeland-gateway-to-college-high-school/', 'https://www.polk.edu/wp-content/uploads/LakelandFlyerGHS.pdf', 'https://www.polk.edu/news/in/lakeland-gateway-to-college-high-school', 'https://www.polk.edu/events/', 'https://www.polk.edu/lakeland-gateway-to-college-high-school/about-us/board-of-trustees/', 'https://www.polk.edu/lakeland-gateway-to-college-high-school/senior-portraits-class-2017/', 'https://www.polk.edu/student-life/', 'https://www.polk.edu/lakeland-gateway-to-college-high-school/clubs/', 'https://www.polk.edu/equity-diversity/', 'https://www.polk.edu/events/memorial-day-holiday-college-closed-4/', 'https://www.polk.edu/admission-aid/', 'https://www.polk.edu/privacy-policy/', 'https://www.polk.edu/lakeland-gateway-to-college-high-school/school-bus-transportation-2016-2017-school-year/', 'https://www.polk.edu/lakeland/', 'https://www.polk.edu/lakeland-gateway-to-college-high-school/bullying-information/', 'https://www.polk.edu/news/', 'https://www.polk.edu/lakeland-gateway-to-college-high-school/dearly-dismissal-days-2015-16/', 'https://www.polk.edu/lakeland-gateway-to-college-high-school/college-and-career/scholarship-opportunities-2016/', 'https://www.polk.edu/lakeland-gateway-to-college-high-school/college-and-career/', 'https://www.polk.edu/lakeland-gateway-to-college-high-school', 'https://www.polk.edu/lakeland-gateway-to-college-high-school/parent-internet-viewer/', 'https://www.polk.edu/academics/', 'https://www.polk.edu/lakeland-gateway-to-college-high-school/textbook-return-spring-2016/', 'https://www.polk.edu/lakeland-gateway-to-college-high-school/college-and-career/financial-aid-application-information-2016/', 'https://www.polk.edu/lakeland-gateway-to-college-high-school/#skip-content', 'https://www.polk.edu/lakeland-gateway-to-college-high-school/higher-reach-site/', 'https://www.polk.edu/locations/', 'https://www.polk.edu/news/polks-top-grads-gateway-valedictorian-tools-study-university-level/', 'https://www.polk.edu/disclaimer/', 'https://www.polk.edu/library-tlcc/', 'https://www.polk.edu/winter-haven/', 'https://www.polk.edu/lakeland-gateway-to-college-high-school/administration-staff/', 'https://www.polk.edu/lakeland-gateway-to-college-high-school/student-resources/', 'https://www.polk.edu/people/', 'https://www.polk.edu/lakeland-gateway-to-college-high-school/about-us/', 'https://www.polk.edu/events/classes-meet-today/', 'https://www.polk.edu/lakeland-gateway-to-college-high-school/alumni-information/']\n"
     ]
    }
   ],
   "source": [
    "school_list = get_obj_back(\"list_of_links\")\n",
    "for i in school_list:\n",
    "    print(i + \" has \" + str(len(school_list[i])) )\n",
    "    print(school_list[i])"
   ]
  },
  {
   "cell_type": "markdown",
   "metadata": {},
   "source": [
    "Now we can get all the html text by runing requests to get all the content."
   ]
  },
  {
   "cell_type": "code",
   "execution_count": null,
   "metadata": {
    "collapsed": true
   },
   "outputs": [],
   "source": []
  },
  {
   "cell_type": "markdown",
   "metadata": {
    "collapsed": true
   },
   "source": [
    "### Get all images"
   ]
  },
  {
   "cell_type": "markdown",
   "metadata": {
    "collapsed": true
   },
   "source": [
    "Since we all have a list of the links alreay, now we are ready to create folders to store these images"
   ]
  },
  {
   "cell_type": "code",
   "execution_count": 79,
   "metadata": {
    "collapsed": false
   },
   "outputs": [],
   "source": [
    "def get_images(url):\n",
    "\n",
    "    html_page = requests.get(url, auth=HTTPDigestAuth('user', 'pass'), headers= {'User-Agent':\"Mozilla/5.0 (Macintosh; Intel Mac OS X 10_11_5) AppleWebKit/537.36 (KHTML, like Gecko) Chrome/56.0.2924.87 Safari/537.36\"})\n",
    "    soup = BeautifulSoup(html_page.text, \"lxml\")\n",
    "    images = set()\n",
    "    # getting the links of the images\n",
    "    for link in soup.find_all('img'):\n",
    "        try:\n",
    "            image = link.get(\"src\")          \n",
    "            pattern = re.compile(\"((http|ftp)s?://.*?)\")\n",
    "            #relative link, need to append to parent's link to that the correct link\n",
    "            if not pattern.match(image):\n",
    "                image = urljoin(url, image)\n",
    "            images.add(image)\n",
    "        except:\n",
    "            pass\n",
    "\n",
    "    return images  \n",
    "def download_image(url, k):\n",
    "    try:\n",
    "        response = requests.get(url,stream=True, auth=HTTPDigestAuth('user', 'pass'), headers= {'User-Agent':\"Mozilla/5.0 (Macintosh; Intel Mac OS X 10_11_5) AppleWebKit/537.36 (KHTML, like Gecko) Chrome/56.0.2924.87 Safari/537.36\"})\n",
    "        ext = url[url.rindex(\".\"):]\n",
    "#         print(ext)\n",
    "#         file_name = url[url.rindex(\"/\")+1: url.rindex(\".\"+ ext)] +\".\"+ ext\n",
    "#         print(file_name)\n",
    "#         if os.path.exists(file_name):\n",
    "#             file_name = file_name[:file_name.rindex(\".\"+ ext)] +\"_1.\"+ ext\n",
    "        with open(\"img\" + str(k), 'wb') as out_file:\n",
    "            shutil.copyfileobj(response.raw, out_file)\n",
    "            del response\n",
    "    except:\n",
    "        print(\"couldn't get \" + url)"
   ]
  },
  {
   "cell_type": "markdown",
   "metadata": {},
   "source": [
    "### Testing"
   ]
  },
  {
   "cell_type": "code",
   "execution_count": 80,
   "metadata": {
    "collapsed": false,
    "scrolled": true
   },
   "outputs": [
    {
     "name": "stdout",
     "output_type": "stream",
     "text": [
      "http://counter.edlio.com/count.jsp?rn=674&i=WLCD-D&s=/index.jsp\n",
      "https://1.cdn.edl.io/MdD7AmfcxcBFnrzZAUPjnNkl03XISc3hupv1Wh2TtLvb2kOB.jpg\n",
      "http://www.wattslearningcenter.org/pics/edlio.png\n",
      "http://www.wattslearningcenter.org/rotating_images/7042/7042_53_1000_0_0.jpg\n",
      "http://www.wattslearningcenter.org/pics/bullet_arrow.gif\n",
      "http://www.wattslearningcenter.org/pics/topnav_hover.png\n"
     ]
    }
   ],
   "source": [
    "r  = get_images(\"http://www.wattslearningcenter.org/#content_main\")\n",
    "k = 1\n",
    "os.chdir(\"/Users/anhnguyen/Desktop/research/scraping_Python/tex2\")\n",
    "for i in r:\n",
    "    print(i)\n",
    "    download_image(i, k)\n",
    "    k += 1\n",
    "#might need to check on size"
   ]
  },
  {
   "cell_type": "markdown",
   "metadata": {},
   "source": [
    "### Get pdfs"
   ]
  },
  {
   "cell_type": "code",
   "execution_count": 71,
   "metadata": {
    "collapsed": false
   },
   "outputs": [],
   "source": [
    "def get_pdfs(url):\n",
    "\n",
    "    html_page = requests.get(url, auth=HTTPDigestAuth('user', 'pass'), headers= {'User-Agent':\"Mozilla/5.0 (Macintosh; Intel Mac OS X 10_11_5) AppleWebKit/537.36 (KHTML, like Gecko) Chrome/56.0.2924.87 Safari/537.36\"})\n",
    "    soup = BeautifulSoup(html_page.text, \"lxml\")\n",
    "    pdfs = set()\n",
    "    # getting the links of the images\n",
    "    for link in soup.findAll('a'):\n",
    "        try:\n",
    "            pdf = link.get('href')          \n",
    "            pattern = re.compile(\"((http|ftp)s?://.*?)\")\n",
    "            #relative link, need to append to parent's link to that the correct link\n",
    "            if not pattern.match(pdf):\n",
    "                pdf = urljoin(url, pdf)\n",
    "                \n",
    "            if(pdf.endswith(\".pdf\")):\n",
    "                pdfs.add(pdf)\n",
    "        except:\n",
    "            pass\n",
    "\n",
    "    return pdfs \n",
    "def download_pdf(url):\n",
    "    try:\n",
    "        \n",
    "        file_name = url[url.rindex(\"/\")+1: url.rindex(\".pdf\")] +\".pdf\"\n",
    "#         print(file_name)\n",
    "        if os.path.exists(file_name):\n",
    "            file_name = file_name[:file_name.rindex(\".pdf\")] +\"_1.pdf\"\n",
    "        response = requests.get(url,stream=True, auth=HTTPDigestAuth('user', 'pass'), headers= {'User-Agent':\"Mozilla/5.0 (Macintosh; Intel Mac OS X 10_11_5) AppleWebKit/537.36 (KHTML, like Gecko) Chrome/56.0.2924.87 Safari/537.36\"})\n",
    "        with open(file_name, 'wb') as f:\n",
    "            f.write(response.content)\n",
    "    except:\n",
    "        print(\"couldn't get \" + url)"
   ]
  },
  {
   "cell_type": "markdown",
   "metadata": {},
   "source": [
    "### Testing"
   ]
  },
  {
   "cell_type": "code",
   "execution_count": 55,
   "metadata": {
    "collapsed": false
   },
   "outputs": [
    {
     "name": "stdout",
     "output_type": "stream",
     "text": [
      "http://inst.eecs.berkeley.edu/~ee16b/sp17/note/circuits/Current.pdf\n",
      "Current.pdf\n",
      "http://inst.eecs.berkeley.edu/~ee16b/sp17/note/linalg/BasisAndDiagonalization.pdf\n",
      "BasisAndDiagonalization.pdf\n",
      "https://www.ling.ohio-state.edu/~kbaker/pubs/Singular_Value_Decomposition_Tutorial.pdf\n",
      "Singular_Value_Decomposition_Tutorial.pdf\n",
      "couldn't get https://www.ling.ohio-state.edu/~kbaker/pubs/Singular_Value_Decomposition_Tutorial.pdf\n",
      "http://inst.eecs.berkeley.edu/~ee16b/sp17/lec/Lecture5B.pdf\n",
      "Lecture5B.pdf\n",
      "http://math.mit.edu/~gs/linearalgebra/linearalgebra5_7-1.pdf\n",
      "linearalgebra5_7-1.pdf\n",
      "http://inst.eecs.berkeley.edu/~ee16b/sp17/hw/hw3/sol3.pdf\n",
      "sol3.pdf\n",
      "http://inst.eecs.berkeley.edu/~ee16b/sp17/hw/hw6/sol6.pdf\n",
      "sol6.pdf\n",
      "http://inst.eecs.berkeley.edu/~ee16b/sp17/lec/Lecture11B.pdf\n",
      "Lecture11B.pdf\n",
      "http://inst.eecs.berkeley.edu/~ee16b/sp17/hw/hw6/prob6.pdf\n",
      "prob6.pdf\n",
      "http://inst.eecs.berkeley.edu/~ee16b/sp17/hw/hw5/prob5.pdf\n",
      "prob5.pdf\n",
      "http://inst.eecs.berkeley.edu/~ee16b/sp17/lec/Lecture2B.pdf\n",
      "Lecture2B.pdf\n",
      "http://terpconnect.umd.edu/~jzsimon/enee222/ref/enee241text0708.pdf\n",
      "enee241text0708.pdf\n",
      "http://inst.eecs.berkeley.edu/~ee16b/sp17/hw/hw12/prob12.pdf\n",
      "prob12.pdf\n",
      "http://inst.eecs.berkeley.edu/~ee16b/sp17/hw/hw9/sol9.pdf\n",
      "sol9.pdf\n",
      "http://inst.eecs.berkeley.edu/~ee16b/sp17/note/midterm1_sol.pdf\n",
      "midterm1_sol.pdf\n",
      "http://inst.eecs.berkeley.edu/~ee16b/sp17/proj/proj-deliv.pdf\n",
      "proj-deliv.pdf\n",
      "http://inst.eecs.berkeley.edu/~ee16b/sp17/proj/proj-grading.pdf\n",
      "proj-grading.pdf\n",
      "http://inst.eecs.berkeley.edu/~ee16b/sp17/lec/Lecture13A.pdf\n",
      "Lecture13A.pdf\n",
      "http://inst.eecs.berkeley.edu/~ee16b/sp17/hw/hw2/sol2.pdf\n",
      "sol2.pdf\n",
      "http://inst.eecs.berkeley.edu/~ee16b/sp17/lec/Lecture4B.pdf\n",
      "Lecture4B.pdf\n",
      "http://inst.eecs.berkeley.edu/~ee16b/sp17/hw/hw1/prob1.pdf\n",
      "prob1.pdf\n",
      "http://inst.eecs.berkeley.edu/~ee16b/sp17/lec/Lecture3B.pdf\n",
      "Lecture3B.pdf\n",
      "http://inst.eecs.berkeley.edu/~ee16b/sp17/hw/hw4/sol4.pdf\n",
      "sol4.pdf\n",
      "http://inst.eecs.berkeley.edu/~ee16b/sp17/lec/Lecture12B.pdf\n",
      "Lecture12B.pdf\n",
      "http://inst.eecs.berkeley.edu/~ee16b/sp17/lec/Lecture8B.pdf\n",
      "Lecture8B.pdf\n",
      "http://inst.eecs.berkeley.edu/~ee16b/sp17/hw/hw7/prob7.pdf\n",
      "prob7.pdf\n",
      "http://inst.eecs.berkeley.edu/~ee16b/sp17/hw/hw7/sol7.pdf\n",
      "sol7.pdf\n",
      "http://inst.eecs.berkeley.edu/~ee16b/sp17/note/midterm2_sol.pdf\n",
      "midterm2_sol.pdf\n",
      "http://inst.eecs.berkeley.edu/~ee16b/sp17/hw/hw0/prob0.pdf\n",
      "prob0.pdf\n",
      "http://inst.eecs.berkeley.edu/~ee16b/sp17/hw/hw1/sol1.pdf\n",
      "sol1.pdf\n",
      "http://inst.eecs.berkeley.edu/~ee16b/sp17/note/circuits/Voltage.pdf\n",
      "Voltage.pdf\n",
      "http://inst.eecs.berkeley.edu/~ee16b/sp17/note/circuits/ResistorsInSeriesAndParallel.pdf\n",
      "ResistorsInSeriesAndParallel.pdf\n",
      "http://inst.eecs.berkeley.edu/~ee16b/sp17/lec/Lecture7A.pdf\n",
      "Lecture7A.pdf\n",
      "http://inst.eecs.berkeley.edu/~ee16b/sp17/lab/oscilloscope-cheatsheet.pdf\n",
      "oscilloscope-cheatsheet.pdf\n",
      "http://inst.eecs.berkeley.edu/~ee16b/sp17/note/circuits/Kirchoff.pdf\n",
      "Kirchoff.pdf\n",
      "https://www.cs.princeton.edu/picasso/mats/PCA-Tutorial-Intuition_jp.pdf\n",
      "PCA-Tutorial-Intuition_jp.pdf\n",
      "http://inst.eecs.berkeley.edu/~ee16b/sp17/lec/Lecture11A.pdf\n",
      "Lecture11A.pdf\n",
      "http://inst.eecs.berkeley.edu/~ee16b/sp17/lec/Lecture6B.pdf\n",
      "Lecture6B.pdf\n",
      "http://inst.eecs.berkeley.edu/~ee16b/sp17/lec/Lecture8A.pdf\n",
      "Lecture8A.pdf\n",
      "http://inst.eecs.berkeley.edu/~ee16b/sp17/lec/Lecture5A.pdf\n",
      "Lecture5A.pdf\n",
      "http://inst.eecs.berkeley.edu/~ee16b/sp17/hw/hw11/prob11.pdf\n",
      "prob11.pdf\n",
      "http://inst.eecs.berkeley.edu/~ee16b/sp17/hw/hw11/sol11.pdf\n",
      "sol11.pdf\n",
      "http://inst.eecs.berkeley.edu/~ee16b/sp17/note/linalg/EigenvaluesEigenvectors.pdf\n",
      "EigenvaluesEigenvectors.pdf\n",
      "http://inst.eecs.berkeley.edu/~ee16b/sp17/lec/Lecture1A.pdf\n",
      "Lecture1A.pdf\n",
      "http://inst.eecs.berkeley.edu/~ee16b/sp17/hw/hw0/sol0.pdf\n",
      "sol0.pdf\n",
      "http://inst.eecs.berkeley.edu/~ee16b/sp17/lec/Lecture13B.pdf\n",
      "Lecture13B.pdf\n",
      "http://inst.eecs.berkeley.edu/~ee16b/sp17/hw/hw9/prob9.pdf\n",
      "prob9.pdf\n",
      "http://inst.eecs.berkeley.edu/~ee16b/sp17/hw/hw10/prob10.pdf\n",
      "prob10.pdf\n",
      "http://inst.eecs.berkeley.edu/~ee16b/sp17/lab/outline.pdf\n",
      "outline.pdf\n",
      "http://inst.eecs.berkeley.edu/~ee16b/sp17/hw/hw2/prob2.pdf\n",
      "prob2.pdf\n",
      "http://inst.eecs.berkeley.edu/~ee16b/sp17/lec/Lecture1B.pdf\n",
      "Lecture1B.pdf\n",
      "http://inst.eecs.berkeley.edu/~ee16b/sp17/lec/Lecture12A.pdf\n",
      "Lecture12A.pdf\n",
      "http://inst.eecs.berkeley.edu/~ee16b/sp17/lec/Lecture3A.pdf\n",
      "Lecture3A.pdf\n",
      "http://inst.eecs.berkeley.edu/~ee16b/sp17/note/circuits/thevenin.pdf\n",
      "thevenin.pdf\n",
      "http://inst.eecs.berkeley.edu/~ee16b/sp17/lec/Lecture0A.pdf\n",
      "Lecture0A.pdf\n",
      "http://inst.eecs.berkeley.edu/~ee16b/sp17/lec/Lecture7B.pdf\n",
      "Lecture7B.pdf\n",
      "http://inst.eecs.berkeley.edu/~ee16b/sp17/lec/Lecture9B.pdf\n",
      "Lecture9B.pdf\n",
      "http://inst.eecs.berkeley.edu/~ee16b/sp17/note/circuits/VoltageAndCurrentDividers.pdf\n",
      "VoltageAndCurrentDividers.pdf\n",
      "http://inst.eecs.berkeley.edu/~ee16b/sp17/note/circuits/Charge.pdf\n",
      "Charge.pdf\n",
      "http://inst.eecs.berkeley.edu/~ee16b/sp17/lec/Lecture9A.pdf\n",
      "Lecture9A.pdf\n",
      "http://inst.eecs.berkeley.edu/~ee16b/sp17/hw/hw4/prob4.pdf\n",
      "prob4.pdf\n",
      "http://inst.eecs.berkeley.edu/~ee16b/sp17/lec/Lecture0B.pdf\n",
      "Lecture0B.pdf\n",
      "http://inst.eecs.berkeley.edu/~ee16b/sp17/note/midterm1.pdf\n",
      "midterm1.pdf\n",
      "http://inst.eecs.berkeley.edu/~ee16b/sp17/hw/hw5/sol5.pdf\n",
      "sol5.pdf\n",
      "http://inst.eecs.berkeley.edu/~ee16b/sp17/lec/Lecture6A.pdf\n",
      "Lecture6A.pdf\n",
      "http://inst.eecs.berkeley.edu/~ee16b/sp17/hw/hw3/prob3.pdf\n",
      "prob3.pdf\n",
      "http://inst.eecs.berkeley.edu/~ee16b/sp17/proj/controls-primer.pdf\n",
      "controls-primer.pdf\n",
      "http://inst.eecs.berkeley.edu/~ee16b/sp17/lec/Lecture2A.pdf\n",
      "Lecture2A.pdf\n",
      "http://inst.eecs.berkeley.edu/~ee16b/sp17/hw/hw10/sol10.pdf\n",
      "sol10.pdf\n",
      "http://inst.eecs.berkeley.edu/~ee16b/sp17/note/midterm2.pdf\n",
      "midterm2.pdf\n"
     ]
    }
   ],
   "source": [
    "m  = get_pdfs(\"http://inst.eecs.berkeley.edu/~ee16b/sp17/\")\n",
    "os.chdir(\"/Users/anhnguyen/Desktop/research/scraping_Python/tex2\")\n",
    "for i in m:\n",
    "    print(i)\n",
    "    download_pdf(i)"
   ]
  },
  {
   "cell_type": "markdown",
   "metadata": {
    "collapsed": true
   },
   "source": [
    "Here is the fun part. We will run our code to get everything, from text, images, and pdfs"
   ]
  },
  {
   "cell_type": "code",
   "execution_count": 9,
   "metadata": {
    "collapsed": true
   },
   "outputs": [],
   "source": [
    "def format_folder_name (k, name):\n",
    "    \"\"\"Format a folder nicely for easy access\"\"\"\n",
    "    if k < 10: # Add two zeros to the folder name if k is less than 10 (for ease of organizing the output folders)\n",
    "        dirname = \"00\" + str(k) + \" \" + name\n",
    "    elif k < 100: # Add one zero if k is less than 100\n",
    "        dirname = \"0\" + str(k) + \" \" + name\n",
    "    else: # Add nothing if k>100\n",
    "        dirname = str(k) + \" \" + name\n",
    "    return dirname\n",
    "\n",
    "   "
   ]
  },
  {
   "cell_type": "code",
   "execution_count": 90,
   "metadata": {
    "collapsed": false
   },
   "outputs": [],
   "source": [
    "\n",
    "def run_master(school_list, parent_folder):\n",
    "    \"\"\"webscrap links and print output to appropriate folders\"\"\"\n",
    "    #navigate to parent folder\n",
    "    k = 0\n",
    "    os.chdir(parent_folder)\n",
    "    for k, school in enumerate(school_list):\n",
    "        # create dir my_folder if it doesn't exist yet\n",
    "        os.chdir(parent_folder)\n",
    "        curr_folder_name = format_folder_name(k, school)\n",
    "        if not os.path.exists(curr_folder_name):\n",
    "            os.makedirs(curr_folder_name)\n",
    "        #navigate to the correct folder, ready to scrap\n",
    "        os.chdir(curr_folder_name)\n",
    "        \n",
    "        #scrap link to get html content\n",
    "        for url in school_list[school]:\n",
    "            html_page = requests.get(url, auth=HTTPDigestAuth('user', 'pass'), headers= {'User-Agent':\"Mozilla/5.0 (Macintosh; Intel Mac OS X 10_11_5) AppleWebKit/537.36 (KHTML, like Gecko) Chrome/56.0.2924.87 Safari/537.36\"})\n",
    "            soup = BeautifulSoup(html_page.text)\n",
    "            try:\n",
    "                #beautify text name for easy access, accept alphanumeric letters only\n",
    "                #name is the title of the page\n",
    "                file_name = re.sub('[^A-Za-z0-9]+', '', soup.title.string)\n",
    "            except:\n",
    "                file_name = \"no name\"\n",
    "#                 i += 1\n",
    "            #create folder if not exists & go to that folder\n",
    "            if not os.path.exists(file_name):\n",
    "                os.makedirs(file_name)\n",
    "            os.chdir(file_name)\n",
    "            \n",
    "            #format text as follow \n",
    "            #first line: url, second line :-------------(separater), third line - end: scraping result\n",
    "            write_file(\"URL:\" + str(url)+ \"\\n\",\"text.txt\" )\n",
    "            write_file(\"----------------------------------------------\\n\", \"text.txt\")\n",
    "            write_file(str(soup.prettify()), \"text.txt\")\n",
    "            \n",
    "            #now get all the images\n",
    "            list_images = get_images(url)\n",
    "            for num,img in enumerate(list_images):\n",
    "                download_image(img, num)\n",
    "            #now get all the pdfs\n",
    "            list_pdf = get_pdfs(url)  \n",
    "            for pdf in list_pdf:\n",
    "                download_pdf(pdf)\n",
    "                \n",
    "            #done, go back to parent directory, ready to scrape the next url\n",
    "            os.chdir('..')\n",
    "        \n",
    "#         k += 1"
   ]
  },
  {
   "cell_type": "code",
   "execution_count": 91,
   "metadata": {
    "collapsed": false
   },
   "outputs": [
    {
     "name": "stdout",
     "output_type": "stream",
     "text": [
      "4_Squares_Explained.pdf\n",
      "LakelandFlyerGHS.pdf\n",
      "Student-Appeal-Complaint-Policy-Rule-4.26.pdf\n",
      "LunsfordTinsleyReport2013wCoverLtr.pdf\n",
      "2015-2016-Polk-State-College-Annual-Equity-Update-Report-Final-Letter.pdf\n",
      "Response-to-Liberty-Counsel-May-6-2015.pdf\n",
      "2016-Workplace-Employment-Posters-1.pdf\n",
      "Annual-Security-Report-2015.pdf\n",
      "Student-Attainment-by-Race-Ethnicity-2012-2013.pdf\n",
      "Equal-Access-Equal-Opportunity-Contact-List-20170316.pdf\n",
      "Transcript-Request-Form-GHS-1.pdf\n",
      "BartowATC_Campus.pdf\n",
      "LCHS-Washington-DC-trip-registration-tip-sheet-08-31-2016.pdf\n",
      "Our-Students-Our-Success-160818.pdf\n",
      "SACSCOC-Institutional-Requirements-for-Public-Disclosure-2014-15.pdf\n",
      "2016-daily-crime-log.pdf\n",
      "Student-Appeal-Complaint-Policy-Rule-4.26.pdf\n",
      "LunsfordTinsleyReport2013wCoverLtr.pdf\n",
      "2015-2016-Polk-State-College-Annual-Equity-Update-Report-Final-Letter.pdf\n",
      "Response-to-Liberty-Counsel-May-6-2015.pdf\n",
      "2016-Workplace-Employment-Posters-1.pdf\n",
      "Annual-Security-Report-2015.pdf\n",
      "Student-Attainment-by-Race-Ethnicity-2012-2013.pdf\n",
      "Equal-Access-Equal-Opportunity-Contact-List-20170316.pdf\n",
      "DOE-Experiment-Advisement1.pdf\n",
      "FAQs-Out-of-State-Tuition-Waivers-for-Undocumented-Immigrants.pdf\n",
      "Admission-Guide-to-Polk-State-College.pdf\n",
      "FAQs-Out-of-State-Tuition-Waivers-for-Veterans.pdf\n",
      "ssn_collection_details.pdf\n",
      "Web-Maps-Lakeland-130826.pdf\n",
      "Bullying-PCSB-Information-Sheet.pdf\n",
      "OVH360-Scholarship-Fall-2016.pdf\n",
      "SEMINOLE%20CLUB%20OF%20POLK%20COUNTYapp.pdf\n",
      "SEMINOLE%20CLUB%20OF%20POLK%20COUNTY16.pdf\n",
      "LK-Public-Service-Scholarship-Application-2016.pdf\n",
      "Paying-for-College-November-2015-Senior-Meeting.pdf\n",
      "GHS-ACT-SAT-Juniors-12-16-15.pdf\n",
      "Transcript-Request-Process-GHS.pdf\n",
      "Transcript-Request-Form-GHS-1.pdf\n",
      "Junior-Class-of-2017.pdf\n",
      "College-Visits-Calendar-Fall-2014.pdf\n",
      "LakelandFlyerGHS.pdf\n",
      "metamajors.pdf\n",
      "LakelandFlyerGHS.pdf\n",
      "PEDS-JUly-2015-2.pdf\n",
      "PERT-studentstudyguide.pdf\n",
      "Polk-State-High-School-Programs-Student-Handbook.pdf\n",
      "Spanish%20Final%2015-16%20School%20Calendar%20BA%207-28.pdf\n",
      "Academic-Calendar-20161.pdf\n",
      "2015-2016%20English%20school%20calendar%20-%20Board%20Approved%207-28.pdf\n",
      "EntervirousD68Letter-for-Parents.pdf\n",
      "2016-2017APPLICATION-FOR-ADMISSIONPSSGHS.pdf\n",
      "GHSBudget2014-15.pdf\n",
      "Gateway-SIP-2016-2017-Final.pdf\n",
      "GHS-Student-Performance-Assessment-Summary-Criteria-4-7-.pdf\n",
      "Gateway-2016-2017Version1.pdf\n",
      "Gateway-SAC-MeetingMinutesFall-Spring2015-16.pdf\n",
      "2016-PSC-GatewayToCollegeFinancialAudit.pdf\n",
      "Gateway-Budget-Grants-and-FTE-2013.pdf\n",
      "GHS-BUDGET-2016-2017.pdf\n",
      "2015-PSC-Gateway-Financial-Audit.pdf\n",
      "Principal-Job-Description.pdf\n",
      "Gateway-SIP-2015-2016.pdf\n",
      "Gateway-SIP-2014-2015.pdf\n",
      "Polk-State-Lakeland-Gateway-to-College-Charter.pdf\n"
     ]
    }
   ],
   "source": [
    "parent_folder = \"/Users/anhnguyen/Desktop/research/scraping_Python/python requests results\"\n",
    "run_master(school_list, parent_folder)"
   ]
  },
  {
   "cell_type": "code",
   "execution_count": null,
   "metadata": {
    "collapsed": true
   },
   "outputs": [],
   "source": []
  }
 ],
 "metadata": {
  "anaconda-cloud": {},
  "kernelspec": {
   "display_name": "Python [default]",
   "language": "python",
   "name": "python3"
  },
  "language_info": {
   "codemirror_mode": {
    "name": "ipython",
    "version": 3
   },
   "file_extension": ".py",
   "mimetype": "text/x-python",
   "name": "python",
   "nbconvert_exporter": "python",
   "pygments_lexer": "ipython3",
   "version": "3.4.5"
  }
 },
 "nbformat": 4,
 "nbformat_minor": 1
}
