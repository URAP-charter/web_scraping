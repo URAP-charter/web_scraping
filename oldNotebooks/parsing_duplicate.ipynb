{
 "cells": [
  {
   "cell_type": "code",
   "execution_count": 13,
   "metadata": {
    "collapsed": true
   },
   "outputs": [],
   "source": [
    "from bs4 import BeautifulSoup\n",
    "\n",
    "import requests\n",
    "import numpy as np\n",
    "\n",
    "url = 'https://www.richland2.org/charterhigh/'\n",
    "\n",
    "r  = requests.get(url)\n",
    "\n",
    "data = r.text\n",
    "soup = BeautifulSoup(data, \"lxml\")"
   ]
  },
  {
   "cell_type": "code",
   "execution_count": 14,
   "metadata": {
    "collapsed": false
   },
   "outputs": [],
   "source": [
    "h = soup.find_all('a')\n",
    "j = soup.find_all('p')\n",
    "for lin in j:\n",
    "    k = str(lin)\n",
    "    if lin.get('class') == None and lin.get('a') == None and len(k.split('|')) == 1:\n",
    "        print(lin.get_text())"
   ]
  },
  {
   "cell_type": "code",
   "execution_count": 15,
   "metadata": {
    "collapsed": false
   },
   "outputs": [
    {
     "name": "stdout",
     "output_type": "stream",
     "text": [
      "{'/CharterHigh/Careers', 'https://www.facebook.com/r2charterhs/', '/CharterHigh/School-Information/Directions', '/CharterHigh/School-Information/School-Improvement-Council', '/CharterHigh/Student-Registration', 'https://www.richland2.org', '/CharterHigh/School-Information/Graduation-2017', '/CharterHigh/Contact-Us', '/CharterHigh/School-Information', '/CharterHigh/News/We-re-Hiring-a-Principal', '/CharterHigh/School-Information/School-Board', '/CharterHigh/Special-Pages/Site-Translations', '/CharterHigh/About-Our-School/Calendar', '/CharterHigh/School-Information/Frequently-Asked-Questions', '/CharterHigh/News/Welcome-to-Our-New-Website!', 'https://twitter.com/r2charterhs', '/CharterHigh/', 'https://www.richland2.org/accessibility.aspx', '/CharterHigh/School-Information/Calendar', 'https://www.facebook.com/r2charterhs', '/CharterHigh/School-Information/Lab-Hours', 'https://sites.google.com/a/richland2.org/chpassport/', 'http://r2charterhigh.blogspot.com/', 'About-Our-School/Calendar', 'news', '/CharterHigh/News/CHS-College-University-Field-Study', '/~', '/CharterHigh/About-Us', '/CharterHigh/News'}\n",
      "29\n"
     ]
    }
   ],
   "source": [
    "\n",
    "l = []\n",
    "for i in h:\n",
    "    l.append(i.get('href'))\n",
    "l = set(l)\n",
    "print(l)\n",
    "print(len(l))"
   ]
  },
  {
   "cell_type": "code",
   "execution_count": 16,
   "metadata": {
    "collapsed": false
   },
   "outputs": [
    {
     "data": {
      "text/plain": [
       "['ABOUT',\n",
       " 'DEPARTMENT',\n",
       " 'HOME',\n",
       " 'COMMUNITY',\n",
       " 'LIFE',\n",
       " 'CURRICULUM',\n",
       " 'HIST',\n",
       " 'PHIL',\n",
       " 'ACADEMICS',\n",
       " 'MORAL',\n",
       " 'FOCUS',\n",
       " 'BELIEFS',\n",
       " 'PROGRAM',\n",
       " 'RESOURCES',\n",
       " 'MISSION',\n",
       " 'VALUE',\n",
       " 'CORE']"
      ]
     },
     "execution_count": 16,
     "metadata": {},
     "output_type": "execute_result"
    }
   ],
   "source": [
    "urlkey = ['about', 'department', 'home', 'community', 'life', 'curriculum', 'hist', 'phil', 'academics', 'moral', 'focus', 'beliefs', 'program', 'resources', 'mission', 'value', 'core']\n",
    "urlkey = [s.upper() for s in urlkey]\n",
    "urlkey"
   ]
  },
  {
   "cell_type": "code",
   "execution_count": 17,
   "metadata": {
    "collapsed": false
   },
   "outputs": [
    {
     "name": "stdout",
     "output_type": "stream",
     "text": [
      "{'/home', 'About-Our-School/Calendar'}\n",
      "2\n"
     ]
    }
   ],
   "source": [
    "p = []\n",
    "for k in l:\n",
    "    try:\n",
    "        #print(j)\n",
    "        j = k.upper()\n",
    "        for i in range(len(urlkey)):\n",
    "            if isinstance(j, list) and len(j) == 1:\n",
    "                j = j[0].split(urlkey[i])\n",
    "            elif isinstance(j, list) and len(j) > 1:\n",
    "                #print(j)\n",
    "                if requests.get(url + k):\n",
    "                    p.append(k)\n",
    "                    break\n",
    "            else:\n",
    "                #print(j)\n",
    "                j = j.split(urlkey[i])\n",
    "    except:\n",
    "        pass\n",
    "\n",
    "p += ['/home']\n",
    "for i in range(len(p)):\n",
    "    k = p[i].upper().split('FREQ')\n",
    "    m = p[i].upper().split('ADMI')\n",
    "    n = p[i].upper().split('TRUSTE')\n",
    "    o = p[i].upper().split('ALUM')\n",
    "    if len(k) > 1 or len(m) > 1 or len(n) > 1 or len(o) > 1:\n",
    "        p[i] = '/home'\n",
    "p = set(p)\n",
    "print(p)\n",
    "print(len(p))"
   ]
  },
  {
   "cell_type": "code",
   "execution_count": 18,
   "metadata": {
    "collapsed": false
   },
   "outputs": [
    {
     "data": {
      "text/plain": [
       "{'curriculum': [],\n",
       " 'history': [],\n",
       " 'mission': [],\n",
       " 'organizational_factors': [],\n",
       " 'philosophy': [],\n",
       " 'resources': [],\n",
       " 'target': []}"
      ]
     },
     "execution_count": 18,
     "metadata": {},
     "output_type": "execute_result"
    }
   ],
   "source": [
    "centroidmodel = {'mission' : [], 'curriculum': [], 'philosophy' : [], 'history' : [], 'target' : [], 'resources' : [], 'organizational_factors' : []}\n",
    "centroidmodel"
   ]
  },
  {
   "cell_type": "code",
   "execution_count": 19,
   "metadata": {
    "collapsed": true
   },
   "outputs": [],
   "source": [
    "k = [str(x) for x in np.arange(1900,2012)]\n",
    "idk = ['advantage']\n",
    "mission = [' vision ', 'our purpose', 'cause', 'objectives', ' mission', 'vision:', 'mission:']\n",
    "mission = [s.upper() for s in mission]\n",
    "curriculum = [ 'program', 'methods', 'pedagogy', 'approach', 'model', 'curriculum', 'academics', 'degree']\n",
    "curriculum = [s.upper() for s in curriculum]\n",
    "philosophy = ['beliefs', 'principles', 'creed', 'values', 'philosophy', 'moral']\n",
    "philosophy = [s.upper() for s in philosophy]\n",
    "history = ['story', 'background', 'founded', 'established'] + k\n",
    "history = [s.upper() for s in history]\n",
    "target = ['gifted', 'at-risk', 'ethnic background', 'target population', 'target audience']\n",
    "target = [s.upper() for s in target]\n",
    "resources = ['ESL', 'tutoring', 'after-school programs', 'available resources', 'services', 'opportunities', 'opportunity']\n",
    "resources = [s.upper() for s in resources]\n",
    "orgfactor = ['statistics', 'API', 'environment', 'ratio', 'average', 'female', 'fund', 'community'  ]\n",
    "orgfactor = [s.upper() for s in orgfactor]"
   ]
  },
  {
   "cell_type": "code",
   "execution_count": 20,
   "metadata": {
    "collapsed": true
   },
   "outputs": [],
   "source": [
    "def mapper(txt):\n",
    "    print(txt.upper())\n",
    "    text = txt.upper()\n",
    "    for i in range(len(mission)):\n",
    "        if not isinstance(text, list):\n",
    "            text = text.split(mission[i])\n",
    "        elif len(text) == 1:\n",
    "            text = text[0].split(mission[i])\n",
    "        if len(text) > 1:\n",
    "            centroidmodel['mission'] += [txt]\n",
    "            break\n",
    "            \n",
    "    text1 = txt.upper()\n",
    "    for i in range(len(curriculum)):\n",
    "        if not isinstance(text1, list):\n",
    "            text1 = text1.split(curriculum[i])\n",
    "        elif len(text1) == 1:\n",
    "            text1 = text1[0].split(curriculum[i])\n",
    "        if len(text1) > 1:\n",
    "            centroidmodel['curriculum'] += [txt]\n",
    "            break\n",
    "            \n",
    "    text2 = txt.upper()\n",
    "    for i in range(len(philosophy)):\n",
    "        if not isinstance(text2, list):\n",
    "            text2 = text2.split(philosophy[i])\n",
    "        elif len(text2) == 1:\n",
    "            text2 = text2[0].split(philosophy[i])\n",
    "        if len(text2) > 1:\n",
    "            centroidmodel['philosophy'] += [txt]\n",
    "            break\n",
    "            \n",
    "    text3 = txt.upper()\n",
    "    for i in range(len(history)):\n",
    "        if not isinstance(text3, list):\n",
    "            text3 = text3.split(history[i])\n",
    "        elif len(text3) == 1:\n",
    "            text3 = text3[0].split(history[i])\n",
    "        if len(text3) > 1:\n",
    "            centroidmodel['history'] += [txt]\n",
    "            break\n",
    "    \n",
    "    text4 = txt.upper()\n",
    "    for i in range(len(target)):\n",
    "        if not isinstance(text4, list):\n",
    "            text4 = text4.split(target[i])\n",
    "        elif len(text4) == 1:\n",
    "            text4 = text4[0].split(target[i])\n",
    "        if len(text4) > 1:\n",
    "            centroidmodel['target'] += [txt]\n",
    "            break\n",
    "            \n",
    "    text5 = txt.upper()       \n",
    "    for i in range(len(resources)):\n",
    "        if not isinstance(text5, list):\n",
    "            text5 = text5.split(resources[i])\n",
    "        elif len(text5) == 1:\n",
    "            text5 = text5[0].split(resources[i])\n",
    "        if len(text5) > 1:\n",
    "            centroidmodel['resources'] += [txt]\n",
    "            break\n",
    "            \n",
    "    text6 = txt.upper()\n",
    "    for i in range(len(orgfactor)):\n",
    "        if not isinstance(text6, list):\n",
    "            text6 = text6.split(orgfactor[i])\n",
    "        elif len(text6) == 1:\n",
    "            text6 = text6[0].split(orgfactor[i])\n",
    "        if len(text6) > 1:\n",
    "            centroidmodel['organizational_factors'] += [txt]\n",
    "            break"
   ]
  },
  {
   "cell_type": "code",
   "execution_count": 21,
   "metadata": {
    "collapsed": false
   },
   "outputs": [],
   "source": [
    "for link in p:\n",
    "    q = requests.get(url + link)\n",
    "    k = q.text\n",
    "    s = BeautifulSoup(k, \"lxml\")\n",
    "    j = s.find_all('p')\n",
    "    for lin in j:\n",
    "        k = str(lin)\n",
    "        if lin.get('class') == None and lin.get('a') == None and len(k.split('|')) == 1:\n",
    "            mapper(' ' + lin.get_text())"
   ]
  },
  {
   "cell_type": "code",
   "execution_count": 22,
   "metadata": {
    "collapsed": true
   },
   "outputs": [],
   "source": [
    "centroidmodel['target'] = set(centroidmodel['target'])\n",
    "centroidmodel['mission'] = set(centroidmodel['mission'])\n",
    "centroidmodel['history'] = set(centroidmodel['history'])\n",
    "centroidmodel['resources'] = set(centroidmodel['resources'])\n",
    "centroidmodel['organizational_factors'] = set(centroidmodel['organizational_factors'])\n",
    "centroidmodel['philosophy'] = set(centroidmodel['philosophy'])\n",
    "centroidmodel['curriculum'] = set(centroidmodel['curriculum'])"
   ]
  },
  {
   "cell_type": "code",
   "execution_count": 23,
   "metadata": {
    "collapsed": false
   },
   "outputs": [
    {
     "name": "stdout",
     "output_type": "stream",
     "text": [
      "{'target': set(), 'history': set(), 'organizational_factors': set(), 'resources': set(), 'mission': set(), 'curriculum': set(), 'philosophy': set()}\n"
     ]
    }
   ],
   "source": [
    "print(centroidmodel)"
   ]
  },
  {
   "cell_type": "code",
   "execution_count": 24,
   "metadata": {
    "collapsed": false
   },
   "outputs": [
    {
     "name": "stdout",
     "output_type": "stream",
     "text": [
      "set()\n"
     ]
    }
   ],
   "source": [
    "print(centroidmodel['mission'])"
   ]
  },
  {
   "cell_type": "code",
   "execution_count": null,
   "metadata": {
    "collapsed": true
   },
   "outputs": [],
   "source": []
  }
 ],
 "metadata": {
  "kernelspec": {
   "display_name": "Python [default]",
   "language": "python",
   "name": "python3"
  },
  "language_info": {
   "codemirror_mode": {
    "name": "ipython",
    "version": 3
   },
   "file_extension": ".py",
   "mimetype": "text/x-python",
   "name": "python",
   "nbconvert_exporter": "python",
   "pygments_lexer": "ipython3",
   "version": "3.4.5"
  }
 },
 "nbformat": 4,
 "nbformat_minor": 1
}
