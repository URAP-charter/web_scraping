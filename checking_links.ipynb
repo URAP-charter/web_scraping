{
 "cells": [
  {
   "cell_type": "markdown",
   "metadata": {},
   "source": [
    "### Invalid URL and URLLIP"
   ]
  },
  {
   "cell_type": "code",
   "execution_count": 10,
   "metadata": {
    "collapsed": false
   },
   "outputs": [],
   "source": [
    "# import necessary libraries\n",
    "import os, csv\n",
    "import shutil\n",
    "import urllib\n",
    "from urllib.request import urlopen\n",
    "from socket import error as SocketError\n",
    "import errno\n",
    "import pandas as pd\n",
    "import httplib2\n",
    "from requests.auth import HTTPBasicAuth\n",
    "import requests\n",
    "from requests.auth import HTTPDigestAuth"
   ]
  },
  {
   "cell_type": "code",
   "execution_count": 2,
   "metadata": {
    "collapsed": true
   },
   "outputs": [],
   "source": [
    "#setting directories\n",
    "micro_sample_cvs = \"/Users/anhnguyen/Desktop/research/scraping_Python/excel_files/micro-sample_MANUAL_Mar17.xlsx\"\n",
    "valid = \"/Users/anhnguyen/Desktop/research/scraping_Python/text_files/valid_march.txt\"\n",
    "invalid = \"/Users/anhnguyen/Desktop/research/scraping_Python/text_files/invalid_march.txt\""
   ]
  },
  {
   "cell_type": "markdown",
   "metadata": {},
   "source": [
    "#### Using Panda to load the excel file. We are interested in only url column for now."
   ]
  },
  {
   "cell_type": "code",
   "execution_count": 17,
   "metadata": {
    "collapsed": false
   },
   "outputs": [],
   "source": [
    "df = pd.read_excel(micro_sample_cvs)\n",
    "urls = df[\"URL\"]\n",
    "# print(urls)"
   ]
  },
  {
   "cell_type": "markdown",
   "metadata": {},
   "source": [
    "### Helper Functions"
   ]
  },
  {
   "cell_type": "code",
   "execution_count": 21,
   "metadata": {
    "collapsed": false
   },
   "outputs": [],
   "source": [
    "def check(url):\n",
    "    \"\"\" Helper function, check if url is a valid list\"\"\"\n",
    "    try:\n",
    "        urlopen(url)\n",
    "        \n",
    "    except urllib.error.URLError:\n",
    "        print(url + \" :URLError\")\n",
    "        return False\n",
    "    except urllib.error.HTTPError:\n",
    "        print(url +' :HTTPError')\n",
    "        return False\n",
    "    except SocketError:\n",
    "        print(url + 'SocketError')\n",
    "        return False\n",
    "    return True\n",
    "\n",
    "def check_url(url):\n",
    "    code = \"[no code collected]\"\n",
    "    try:\n",
    "        r = requests.get(url, auth=HTTPDigestAuth('user', 'pass'), headers= {'User-Agent':\"Mozilla/5.0 (Macintosh; Intel Mac OS X 10_11_5) AppleWebKit/537.36 (KHTML, like Gecko) Chrome/56.0.2924.87 Safari/537.36\"})\n",
    "        code = r.status_code\n",
    "        #backup plan for service unavailable issues\n",
    "        if code == 503:\n",
    "            check(url)\n",
    "        if code < 400:\n",
    "            return True   \n",
    "    except:\n",
    "        pass\n",
    "    print(url +\" ---Error code: \" + str( code))\n",
    "    return False    \n",
    "\n",
    "# just write str to file\n",
    "def write_file(str, file_name):\n",
    "    with open(file_name, \"a\") as text_file:\n",
    "        text_file.write(str)\n",
    "def reset_text_file(file_name):\n",
    "    if os.path.exists(file_name):\n",
    "            with open(file_name, \"w\") as text_file:\n",
    "                text_file.write(\"\")\n",
    "                \n",
    "def count_valid_links(list_of_links, valid_file, invalid_file):\n",
    "    count_success, count_fail = 0, 0\n",
    "    valid, invalid = '', ''\n",
    "    for l in list_of_links:\n",
    "        if check_url(l):\n",
    "            valid += l + '\\n'\n",
    "            count_success +=1\n",
    "        else:\n",
    "            invalid += l + '\\n'\n",
    "            count_fail += 1\n",
    "    write_file(valid, valid_file)\n",
    "    write_file(invalid, invalid_file)\n",
    "    return count_success, count_fail"
   ]
  },
  {
   "cell_type": "code",
   "execution_count": 24,
   "metadata": {
    "collapsed": false
   },
   "outputs": [
    {
     "name": "stdout",
     "output_type": "stream",
     "text": [
      "http://www.pasadenarosebud.com/ ---Error code: [no code collected]\n",
      "http://www.ncsota.org/ ---Error code: 500\n",
      "http://www.mlacademy.org/#!contact-us/c2q4 ---Error code: 404\n",
      "http://www.materacademy.com/schools/ ---Error code: 404\n",
      "http://www.k12northstar.org/starofthenorth/ ---Error code: 404\n",
      "http://www.k12northstar.org/chinook/ ---Error code: 404\n",
      "http://www.jeffersoncommunityschool.org/ ---Error code: 403\n",
      "http://www.edvantages.com/ ---Error code: [no code collected]\n",
      "http://www.dcprep.org/Benning_Elementary_Campus/ ---Error code: 404\n",
      "http://www.clevelandta.org/school/oak-leadership-institute/ ---Error code: 403\n",
      "http://www.arcsj.org/communitycampus.html/ ---Error code: 404\n",
      "http://www.academiadeestrellas.org/ ---Error code: [no code collected]\n",
      "http://ideacharterschool.com/ ---Error code: [no code collected]\n",
      "http://aspirepublicschools.org/schools/regions/california-schools/aspire-vanguard-college-preparatory-academy/ ---Error code: 404\n",
      "http://aspirepublicschools.org/schools/regions/california-schools/aspire-eres-academy/ ---Error code: 404\n",
      "http://arthuracademy.org/woodburn/woodburn-arthur-academy.html/ ---Error code: 404\n",
      "16\n"
     ]
    }
   ],
   "source": [
    "reset_text_file(invalid)\n",
    "reset_text_file(valid)\n",
    "yes, no =count_valid_links(urls, valid, invalid)\n",
    "print(no)"
   ]
  },
  {
   "cell_type": "code",
   "execution_count": 22,
   "metadata": {
    "collapsed": false
   },
   "outputs": [
    {
     "name": "stdout",
     "output_type": "stream",
     "text": [
      "284 16\n"
     ]
    }
   ],
   "source": [
    "check_url(\"http://www.appletonpublicmontessori.com/\")\n",
    "print(yes, no)"
   ]
  },
  {
   "cell_type": "markdown",
   "metadata": {
    "collapsed": true
   },
   "source": [
    "#### There are 16 invalid links and the rest are valid."
   ]
  },
  {
   "cell_type": "code",
   "execution_count": 23,
   "metadata": {
    "collapsed": false
   },
   "outputs": [
    {
     "data": {
      "text/plain": [
       "True"
      ]
     },
     "execution_count": 23,
     "metadata": {},
     "output_type": "execute_result"
    }
   ],
   "source": [
    "check(\"http://www.appletonpublicmontessori.com/\")"
   ]
  },
  {
   "cell_type": "code",
   "execution_count": null,
   "metadata": {
    "collapsed": true
   },
   "outputs": [],
   "source": []
  }
 ],
 "metadata": {
  "anaconda-cloud": {},
  "kernelspec": {
   "display_name": "Python [default]",
   "language": "python",
   "name": "python3"
  },
  "language_info": {
   "codemirror_mode": {
    "name": "ipython",
    "version": 3
   },
   "file_extension": ".py",
   "mimetype": "text/x-python",
   "name": "python",
   "nbconvert_exporter": "python",
   "pygments_lexer": "ipython3",
   "version": "3.4.5"
  }
 },
 "nbformat": 4,
 "nbformat_minor": 1
}
